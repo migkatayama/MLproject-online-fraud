{
  "nbformat": 4,
  "nbformat_minor": 0,
  "metadata": {
    "colab": {
      "name": "ML_CLSF_Fraude_CompraOnline_v01.ipynb",
      "provenance": [],
      "collapsed_sections": [],
      "toc_visible": true,
      "authorship_tag": "ABX9TyOLe54NGDMNIY9r9iKfpkLK",
      "include_colab_link": true
    },
    "kernelspec": {
      "name": "python3",
      "display_name": "Python 3"
    }
  },
  "cells": [
    {
      "cell_type": "markdown",
      "metadata": {
        "id": "view-in-github",
        "colab_type": "text"
      },
      "source": [
        "<a href=\"https://colab.research.google.com/github/migkatayama/MLproject-online-fraud/blob/master/ML_CLSF_Fraude_CompraOnline_v01.ipynb\" target=\"_parent\"><img src=\"https://colab.research.google.com/assets/colab-badge.svg\" alt=\"Open In Colab\"/></a>"
      ]
    },
    {
      "cell_type": "markdown",
      "metadata": {
        "id": "opzdpbjpcVIQ",
        "colab_type": "text"
      },
      "source": [
        "# DETECÇÃO DE FRAUDES DE COMPRAS ONLINE\n",
        "\n",
        "## Definição do Escopo do negócio\n",
        "\n",
        "O escopo é a identificação de Fraudes nas Compras de E-commerce.\n",
        "O dataset utilizado é um arquivo que contém as compras efetuadas de clientes.\n",
        "\n",
        "## Versão 1\n",
        "Essa versão é uma implementação mais simples, cujo objetivo é ter a visão mais básica de uma implementação e comparar seu resultado com as próximas versões onde serão aplicadas diversas técnicas de otimização.\n",
        "\n",
        "## Fluxo implementado:\n",
        "\n",
        "*   Carga do Dataset\n",
        "*   Análise Exploratória dos Dados (EDA)\n",
        "    * Label Encoder\n",
        "*   Separação dos Dados de Treino e Teste (Spliting)\n",
        "*   Treinamento (Fitting), criando 6 modelos de classificação:\n",
        "    * Naive Bayes\n",
        "    * Regressão Logistica\n",
        "    * KNN\n",
        "    * Árvore de Decisão\n",
        "    * Random Forest\n",
        "    * SVM\n",
        "*   Validação/Acurácia e comparativos\n"
      ]
    },
    {
      "cell_type": "markdown",
      "metadata": {
        "id": "52NOkWqY_lg1",
        "colab_type": "text"
      },
      "source": [
        "# 1 . DATASET"
      ]
    },
    {
      "cell_type": "code",
      "metadata": {
        "id": "TSJ6mdPY0M3O",
        "colab_type": "code",
        "colab": {
          "base_uri": "https://localhost:8080/",
          "height": 35
        },
        "outputId": "1f25586f-ec3d-42a4-ea13-3b2d3f9f5b38"
      },
      "source": [
        "# Importando arquivos\n",
        "from pandas import read_csv\n",
        "import warnings\n",
        "warnings.filterwarnings('ignore')\n",
        "\n",
        "arquivo = 'fraud_ecommerce.csv'\n",
        "dfbase = read_csv(arquivo)\n",
        "\n",
        "# Retorna a qtde de linha e colunas carregadas\n",
        "dfbase.shape\n",
        " \n"
      ],
      "execution_count": 113,
      "outputs": [
        {
          "output_type": "execute_result",
          "data": {
            "text/plain": [
              "(151114, 11)"
            ]
          },
          "metadata": {
            "tags": []
          },
          "execution_count": 113
        }
      ]
    },
    {
      "cell_type": "markdown",
      "metadata": {
        "id": "-WssorTI_7gH",
        "colab_type": "text"
      },
      "source": [
        "# 2 . ANÁLISE EXPLORATÓRIA DOS DADOS (EDA - EXPLORATORY DATA ANALYSIS)\n",
        "\n",
        "A Análise Exploratória dos Dados (EDA - Exploratory Data Analysis) é a etapa (para mim) a etapa mais importante e crucial da montagem de um modelo preditivo.\n",
        "\n",
        "Pois ele é o início de tudo, que irá ditar quais as técnicas a serem utilizadas, quais transformações que devem ser efetuadas ou que podem melhorar o aprendizado do modelo.\n",
        "Uma análise exploratória bem executada gerará um aprendizado mais apurado e consequentemente uma melhor acurácia.\n",
        "\n",
        "\n",
        "Para essa versão básica, iremos usar uma análise exploratória mais simples para justamente nas versões mais avançadas aplicando as análises mais apuradas, compararmos os resultados."
      ]
    },
    {
      "cell_type": "code",
      "metadata": {
        "id": "0IByAhYS7ByW",
        "colab_type": "code",
        "outputId": "8b6f8ce1-f95d-4457-c3b8-b0d5647d913d",
        "colab": {
          "base_uri": "https://localhost:8080/",
          "height": 340
        }
      },
      "source": [
        "# Visualizando os primeiros registros. Se não informar o parâmetro, o padrão é os 5 primeiros\n",
        "dfbase.head(10)\n"
      ],
      "execution_count": 26,
      "outputs": [
        {
          "output_type": "execute_result",
          "data": {
            "text/html": [
              "<div>\n",
              "<style scoped>\n",
              "    .dataframe tbody tr th:only-of-type {\n",
              "        vertical-align: middle;\n",
              "    }\n",
              "\n",
              "    .dataframe tbody tr th {\n",
              "        vertical-align: top;\n",
              "    }\n",
              "\n",
              "    .dataframe thead th {\n",
              "        text-align: right;\n",
              "    }\n",
              "</style>\n",
              "<table border=\"1\" class=\"dataframe\">\n",
              "  <thead>\n",
              "    <tr style=\"text-align: right;\">\n",
              "      <th></th>\n",
              "      <th>user_id</th>\n",
              "      <th>signup_time</th>\n",
              "      <th>purchase_time</th>\n",
              "      <th>purchase_value</th>\n",
              "      <th>device_id</th>\n",
              "      <th>source</th>\n",
              "      <th>browser</th>\n",
              "      <th>sex</th>\n",
              "      <th>age</th>\n",
              "      <th>ip_address</th>\n",
              "      <th>class</th>\n",
              "    </tr>\n",
              "  </thead>\n",
              "  <tbody>\n",
              "    <tr>\n",
              "      <th>0</th>\n",
              "      <td>22058</td>\n",
              "      <td>2015-02-24 22:55:49</td>\n",
              "      <td>2015-04-18 02:47:11</td>\n",
              "      <td>34.0</td>\n",
              "      <td>QVPSPJUOCKZAR</td>\n",
              "      <td>SEO</td>\n",
              "      <td>Chrome</td>\n",
              "      <td>M</td>\n",
              "      <td>39.0</td>\n",
              "      <td>7.327584e+08</td>\n",
              "      <td>0.0</td>\n",
              "    </tr>\n",
              "    <tr>\n",
              "      <th>1</th>\n",
              "      <td>333320</td>\n",
              "      <td>2015-06-07 20:39:50</td>\n",
              "      <td>2015-06-08 01:38:54</td>\n",
              "      <td>16.0</td>\n",
              "      <td>EOGFQPIZPYXFZ</td>\n",
              "      <td>Ads</td>\n",
              "      <td>Chrome</td>\n",
              "      <td>F</td>\n",
              "      <td>53.0</td>\n",
              "      <td>3.503114e+08</td>\n",
              "      <td>0.0</td>\n",
              "    </tr>\n",
              "    <tr>\n",
              "      <th>2</th>\n",
              "      <td>1359</td>\n",
              "      <td>2015-01-01 18:52:44</td>\n",
              "      <td>2015-01-01 18:52:45</td>\n",
              "      <td>15.0</td>\n",
              "      <td>YSSKYOSJHPPLJ</td>\n",
              "      <td>SEO</td>\n",
              "      <td>Opera</td>\n",
              "      <td>M</td>\n",
              "      <td>53.0</td>\n",
              "      <td>2.621474e+09</td>\n",
              "      <td>1.0</td>\n",
              "    </tr>\n",
              "    <tr>\n",
              "      <th>3</th>\n",
              "      <td>150084</td>\n",
              "      <td>2015-04-28 21:13:25</td>\n",
              "      <td>2015-05-04 13:54:50</td>\n",
              "      <td>44.0</td>\n",
              "      <td>ATGTXKYKUDUQN</td>\n",
              "      <td>SEO</td>\n",
              "      <td>Safari</td>\n",
              "      <td>M</td>\n",
              "      <td>41.0</td>\n",
              "      <td>3.840542e+09</td>\n",
              "      <td>0.0</td>\n",
              "    </tr>\n",
              "    <tr>\n",
              "      <th>4</th>\n",
              "      <td>221365</td>\n",
              "      <td>2015-07-21 07:09:52</td>\n",
              "      <td>2015-09-09 18:40:53</td>\n",
              "      <td>39.0</td>\n",
              "      <td>NAUITBZFJKHWW</td>\n",
              "      <td>Ads</td>\n",
              "      <td>Safari</td>\n",
              "      <td>M</td>\n",
              "      <td>45.0</td>\n",
              "      <td>4.155831e+08</td>\n",
              "      <td>0.0</td>\n",
              "    </tr>\n",
              "    <tr>\n",
              "      <th>5</th>\n",
              "      <td>159135</td>\n",
              "      <td>2015-05-21 06:03:03</td>\n",
              "      <td>2015-07-09 08:05:14</td>\n",
              "      <td>42.0</td>\n",
              "      <td>ALEYXFXINSXLZ</td>\n",
              "      <td>Ads</td>\n",
              "      <td>Chrome</td>\n",
              "      <td>M</td>\n",
              "      <td>18.0</td>\n",
              "      <td>2.809315e+09</td>\n",
              "      <td>0.0</td>\n",
              "    </tr>\n",
              "    <tr>\n",
              "      <th>6</th>\n",
              "      <td>50116</td>\n",
              "      <td>2015-08-01 22:40:52</td>\n",
              "      <td>2015-08-27 03:37:57</td>\n",
              "      <td>11.0</td>\n",
              "      <td>IWKVZHJOCLPUR</td>\n",
              "      <td>Ads</td>\n",
              "      <td>Chrome</td>\n",
              "      <td>F</td>\n",
              "      <td>19.0</td>\n",
              "      <td>3.987484e+09</td>\n",
              "      <td>0.0</td>\n",
              "    </tr>\n",
              "    <tr>\n",
              "      <th>7</th>\n",
              "      <td>360585</td>\n",
              "      <td>2015-04-06 07:35:45</td>\n",
              "      <td>2015-05-25 17:21:14</td>\n",
              "      <td>27.0</td>\n",
              "      <td>HPUCUYLMJBYFW</td>\n",
              "      <td>Ads</td>\n",
              "      <td>Opera</td>\n",
              "      <td>M</td>\n",
              "      <td>34.0</td>\n",
              "      <td>1.692459e+09</td>\n",
              "      <td>0.0</td>\n",
              "    </tr>\n",
              "    <tr>\n",
              "      <th>8</th>\n",
              "      <td>159045</td>\n",
              "      <td>2015-04-21 23:38:34</td>\n",
              "      <td>2015-06-02 14:01:54</td>\n",
              "      <td>30.0</td>\n",
              "      <td>ILXYDOZIHOOHT</td>\n",
              "      <td>SEO</td>\n",
              "      <td>IE</td>\n",
              "      <td>F</td>\n",
              "      <td>43.0</td>\n",
              "      <td>3.719094e+09</td>\n",
              "      <td>0.0</td>\n",
              "    </tr>\n",
              "    <tr>\n",
              "      <th>9</th>\n",
              "      <td>182338</td>\n",
              "      <td>2015-01-25 17:49:49</td>\n",
              "      <td>2015-03-23 23:05:42</td>\n",
              "      <td>62.0</td>\n",
              "      <td>NRFFPPHZYFUVC</td>\n",
              "      <td>Ads</td>\n",
              "      <td>IE</td>\n",
              "      <td>M</td>\n",
              "      <td>31.0</td>\n",
              "      <td>3.416747e+08</td>\n",
              "      <td>0.0</td>\n",
              "    </tr>\n",
              "  </tbody>\n",
              "</table>\n",
              "</div>"
            ],
            "text/plain": [
              "   user_id          signup_time        purchase_time  ...   age    ip_address class\n",
              "0    22058  2015-02-24 22:55:49  2015-04-18 02:47:11  ...  39.0  7.327584e+08   0.0\n",
              "1   333320  2015-06-07 20:39:50  2015-06-08 01:38:54  ...  53.0  3.503114e+08   0.0\n",
              "2     1359  2015-01-01 18:52:44  2015-01-01 18:52:45  ...  53.0  2.621474e+09   1.0\n",
              "3   150084  2015-04-28 21:13:25  2015-05-04 13:54:50  ...  41.0  3.840542e+09   0.0\n",
              "4   221365  2015-07-21 07:09:52  2015-09-09 18:40:53  ...  45.0  4.155831e+08   0.0\n",
              "5   159135  2015-05-21 06:03:03  2015-07-09 08:05:14  ...  18.0  2.809315e+09   0.0\n",
              "6    50116  2015-08-01 22:40:52  2015-08-27 03:37:57  ...  19.0  3.987484e+09   0.0\n",
              "7   360585  2015-04-06 07:35:45  2015-05-25 17:21:14  ...  34.0  1.692459e+09   0.0\n",
              "8   159045  2015-04-21 23:38:34  2015-06-02 14:01:54  ...  43.0  3.719094e+09   0.0\n",
              "9   182338  2015-01-25 17:49:49  2015-03-23 23:05:42  ...  31.0  3.416747e+08   0.0\n",
              "\n",
              "[10 rows x 11 columns]"
            ]
          },
          "metadata": {
            "tags": []
          },
          "execution_count": 26
        }
      ]
    },
    {
      "cell_type": "code",
      "metadata": {
        "id": "KanbHwsbW_vv",
        "colab_type": "code",
        "colab": {
          "base_uri": "https://localhost:8080/",
          "height": 194
        },
        "outputId": "332bacaa-54ae-4491-f365-22f8aeebd22c"
      },
      "source": [
        "# Você pode também visualizar os últimos registros \n",
        " dfbase.tail()"
      ],
      "execution_count": 47,
      "outputs": [
        {
          "output_type": "execute_result",
          "data": {
            "text/html": [
              "<div>\n",
              "<style scoped>\n",
              "    .dataframe tbody tr th:only-of-type {\n",
              "        vertical-align: middle;\n",
              "    }\n",
              "\n",
              "    .dataframe tbody tr th {\n",
              "        vertical-align: top;\n",
              "    }\n",
              "\n",
              "    .dataframe thead th {\n",
              "        text-align: right;\n",
              "    }\n",
              "</style>\n",
              "<table border=\"1\" class=\"dataframe\">\n",
              "  <thead>\n",
              "    <tr style=\"text-align: right;\">\n",
              "      <th></th>\n",
              "      <th>user_id</th>\n",
              "      <th>signup_time</th>\n",
              "      <th>purchase_time</th>\n",
              "      <th>purchase_value</th>\n",
              "      <th>device_id</th>\n",
              "      <th>source</th>\n",
              "      <th>browser</th>\n",
              "      <th>sex</th>\n",
              "      <th>age</th>\n",
              "      <th>ip_address</th>\n",
              "      <th>class</th>\n",
              "    </tr>\n",
              "  </thead>\n",
              "  <tbody>\n",
              "    <tr>\n",
              "      <th>151109</th>\n",
              "      <td>274471</td>\n",
              "      <td>2015-05-15 17:43:29</td>\n",
              "      <td>2015-05-26 12:24:39</td>\n",
              "      <td>35.0</td>\n",
              "      <td>LYSFABUCPCGBA</td>\n",
              "      <td>SEO</td>\n",
              "      <td>Safari</td>\n",
              "      <td>M</td>\n",
              "      <td>32.0</td>\n",
              "      <td>2.439047e+09</td>\n",
              "      <td>0.0</td>\n",
              "    </tr>\n",
              "    <tr>\n",
              "      <th>151110</th>\n",
              "      <td>368416</td>\n",
              "      <td>2015-03-03 23:07:31</td>\n",
              "      <td>2015-05-20 07:07:47</td>\n",
              "      <td>40.0</td>\n",
              "      <td>MEQHCSJUBRBFE</td>\n",
              "      <td>SEO</td>\n",
              "      <td>IE</td>\n",
              "      <td>F</td>\n",
              "      <td>26.0</td>\n",
              "      <td>2.748471e+09</td>\n",
              "      <td>0.0</td>\n",
              "    </tr>\n",
              "    <tr>\n",
              "      <th>151111</th>\n",
              "      <td>9999000</td>\n",
              "      <td>2015-01-01 07:02:20</td>\n",
              "      <td>NaN</td>\n",
              "      <td>NaN</td>\n",
              "      <td>ZINIADFCLHYPG</td>\n",
              "      <td>Direct</td>\n",
              "      <td>IE</td>\n",
              "      <td>M</td>\n",
              "      <td>NaN</td>\n",
              "      <td>4.103825e+09</td>\n",
              "      <td>NaN</td>\n",
              "    </tr>\n",
              "    <tr>\n",
              "      <th>151112</th>\n",
              "      <td>207709</td>\n",
              "      <td>2015-07-09 20:06:07</td>\n",
              "      <td>2015-09-07 09:34:46</td>\n",
              "      <td>46.0</td>\n",
              "      <td>CMCXFGRHYSTVJ</td>\n",
              "      <td>SEO</td>\n",
              "      <td>Chrome</td>\n",
              "      <td>M</td>\n",
              "      <td>37.0</td>\n",
              "      <td>3.601175e+09</td>\n",
              "      <td>0.0</td>\n",
              "    </tr>\n",
              "    <tr>\n",
              "      <th>151113</th>\n",
              "      <td>138208</td>\n",
              "      <td>2015-06-10 07:02:20</td>\n",
              "      <td>2015-07-21 02:03:53</td>\n",
              "      <td>20.0</td>\n",
              "      <td>ZINIADFCLHYPG</td>\n",
              "      <td>Direct</td>\n",
              "      <td>IE</td>\n",
              "      <td>M</td>\n",
              "      <td>38.0</td>\n",
              "      <td>4.103825e+09</td>\n",
              "      <td>0.0</td>\n",
              "    </tr>\n",
              "  </tbody>\n",
              "</table>\n",
              "</div>"
            ],
            "text/plain": [
              "        user_id          signup_time  ...    ip_address  class\n",
              "151109   274471  2015-05-15 17:43:29  ...  2.439047e+09    0.0\n",
              "151110   368416  2015-03-03 23:07:31  ...  2.748471e+09    0.0\n",
              "151111  9999000  2015-01-01 07:02:20  ...  4.103825e+09    NaN\n",
              "151112   207709  2015-07-09 20:06:07  ...  3.601175e+09    0.0\n",
              "151113   138208  2015-06-10 07:02:20  ...  4.103825e+09    0.0\n",
              "\n",
              "[5 rows x 11 columns]"
            ]
          },
          "metadata": {
            "tags": []
          },
          "execution_count": 47
        }
      ]
    },
    {
      "cell_type": "code",
      "metadata": {
        "id": "R-xebGZT7Ejk",
        "colab_type": "code",
        "outputId": "a8d6da73-057d-4431-94e2-f01282ee9057",
        "colab": {
          "base_uri": "https://localhost:8080/",
          "height": 230
        }
      },
      "source": [
        "# Visualizando as colunas e os tipos\n",
        "dfbase.dtypes\n",
        "\n",
        "# DICA: os atributos carregados como string(alfanumérico) estarão como object.\n",
        "# Perceba então que os atributos de data de cadastro (signup_time) e de compra (purchase_time) estão como texto e não como data."
      ],
      "execution_count": 19,
      "outputs": [
        {
          "output_type": "execute_result",
          "data": {
            "text/plain": [
              "user_id             int64\n",
              "signup_time        object\n",
              "purchase_time      object\n",
              "purchase_value      int64\n",
              "device_id          object\n",
              "source             object\n",
              "browser            object\n",
              "sex                object\n",
              "age                 int64\n",
              "ip_address        float64\n",
              "class               int64\n",
              "dtype: object"
            ]
          },
          "metadata": {
            "tags": []
          },
          "execution_count": 19
        }
      ]
    },
    {
      "cell_type": "code",
      "metadata": {
        "id": "DVDX5I0K7gFM",
        "colab_type": "code",
        "outputId": "e0b53880-cc13-4520-cefc-90646bcfa463",
        "colab": {
          "base_uri": "https://localhost:8080/",
          "height": 282
        }
      },
      "source": [
        "# Exibindo valores estatísticos básicos dos campos numéricos (os campso que não são números são automaticamente omitidos)\n",
        "#=> DICA: Analise a medida \"min\" para verificar rapidamente se há atributos com negativos (há comandos para ver isso mas explico isso depois)\n",
        "\n",
        "dfbase.describe()\n"
      ],
      "execution_count": 28,
      "outputs": [
        {
          "output_type": "execute_result",
          "data": {
            "text/html": [
              "<div>\n",
              "<style scoped>\n",
              "    .dataframe tbody tr th:only-of-type {\n",
              "        vertical-align: middle;\n",
              "    }\n",
              "\n",
              "    .dataframe tbody tr th {\n",
              "        vertical-align: top;\n",
              "    }\n",
              "\n",
              "    .dataframe thead th {\n",
              "        text-align: right;\n",
              "    }\n",
              "</style>\n",
              "<table border=\"1\" class=\"dataframe\">\n",
              "  <thead>\n",
              "    <tr style=\"text-align: right;\">\n",
              "      <th></th>\n",
              "      <th>user_id</th>\n",
              "      <th>purchase_value</th>\n",
              "      <th>age</th>\n",
              "      <th>ip_address</th>\n",
              "      <th>class</th>\n",
              "    </tr>\n",
              "  </thead>\n",
              "  <tbody>\n",
              "    <tr>\n",
              "      <th>count</th>\n",
              "      <td>1.511140e+05</td>\n",
              "      <td>151112.000000</td>\n",
              "      <td>151112.000000</td>\n",
              "      <td>1.511130e+05</td>\n",
              "      <td>151112.000000</td>\n",
              "    </tr>\n",
              "    <tr>\n",
              "      <th>mean</th>\n",
              "      <td>2.003007e+05</td>\n",
              "      <td>36.935372</td>\n",
              "      <td>33.140704</td>\n",
              "      <td>2.152158e+09</td>\n",
              "      <td>0.093646</td>\n",
              "    </tr>\n",
              "    <tr>\n",
              "      <th>std</th>\n",
              "      <td>1.207505e+05</td>\n",
              "      <td>18.322762</td>\n",
              "      <td>8.617733</td>\n",
              "      <td>1.248503e+09</td>\n",
              "      <td>0.291336</td>\n",
              "    </tr>\n",
              "    <tr>\n",
              "      <th>min</th>\n",
              "      <td>2.000000e+00</td>\n",
              "      <td>9.000000</td>\n",
              "      <td>18.000000</td>\n",
              "      <td>5.209350e+04</td>\n",
              "      <td>0.000000</td>\n",
              "    </tr>\n",
              "    <tr>\n",
              "      <th>25%</th>\n",
              "      <td>1.006435e+05</td>\n",
              "      <td>22.000000</td>\n",
              "      <td>27.000000</td>\n",
              "      <td>1.085939e+09</td>\n",
              "      <td>0.000000</td>\n",
              "    </tr>\n",
              "    <tr>\n",
              "      <th>50%</th>\n",
              "      <td>1.999625e+05</td>\n",
              "      <td>35.000000</td>\n",
              "      <td>33.000000</td>\n",
              "      <td>2.154785e+09</td>\n",
              "      <td>0.000000</td>\n",
              "    </tr>\n",
              "    <tr>\n",
              "      <th>75%</th>\n",
              "      <td>3.000615e+05</td>\n",
              "      <td>49.000000</td>\n",
              "      <td>39.000000</td>\n",
              "      <td>3.243264e+09</td>\n",
              "      <td>0.000000</td>\n",
              "    </tr>\n",
              "    <tr>\n",
              "      <th>max</th>\n",
              "      <td>9.999000e+06</td>\n",
              "      <td>154.000000</td>\n",
              "      <td>76.000000</td>\n",
              "      <td>4.294850e+09</td>\n",
              "      <td>1.000000</td>\n",
              "    </tr>\n",
              "  </tbody>\n",
              "</table>\n",
              "</div>"
            ],
            "text/plain": [
              "            user_id  purchase_value            age    ip_address          class\n",
              "count  1.511140e+05   151112.000000  151112.000000  1.511130e+05  151112.000000\n",
              "mean   2.003007e+05       36.935372      33.140704  2.152158e+09       0.093646\n",
              "std    1.207505e+05       18.322762       8.617733  1.248503e+09       0.291336\n",
              "min    2.000000e+00        9.000000      18.000000  5.209350e+04       0.000000\n",
              "25%    1.006435e+05       22.000000      27.000000  1.085939e+09       0.000000\n",
              "50%    1.999625e+05       35.000000      33.000000  2.154785e+09       0.000000\n",
              "75%    3.000615e+05       49.000000      39.000000  3.243264e+09       0.000000\n",
              "max    9.999000e+06      154.000000      76.000000  4.294850e+09       1.000000"
            ]
          },
          "metadata": {
            "tags": []
          },
          "execution_count": 28
        }
      ]
    },
    {
      "cell_type": "code",
      "metadata": {
        "id": "bj59NJ7-R7Lv",
        "colab_type": "code",
        "colab": {
          "base_uri": "https://localhost:8080/",
          "height": 194
        },
        "outputId": "2fa153be-1b7b-479e-f71d-eebe7ef8295c"
      },
      "source": [
        "#=> DICA: Caso haja muitos atributos, parte deles podem não ser exibidos. Então utilize o campo de Transpor (trocar linhas e colunas)\n",
        "dfbase.describe().T"
      ],
      "execution_count": 48,
      "outputs": [
        {
          "output_type": "execute_result",
          "data": {
            "text/html": [
              "<div>\n",
              "<style scoped>\n",
              "    .dataframe tbody tr th:only-of-type {\n",
              "        vertical-align: middle;\n",
              "    }\n",
              "\n",
              "    .dataframe tbody tr th {\n",
              "        vertical-align: top;\n",
              "    }\n",
              "\n",
              "    .dataframe thead th {\n",
              "        text-align: right;\n",
              "    }\n",
              "</style>\n",
              "<table border=\"1\" class=\"dataframe\">\n",
              "  <thead>\n",
              "    <tr style=\"text-align: right;\">\n",
              "      <th></th>\n",
              "      <th>count</th>\n",
              "      <th>mean</th>\n",
              "      <th>std</th>\n",
              "      <th>min</th>\n",
              "      <th>25%</th>\n",
              "      <th>50%</th>\n",
              "      <th>75%</th>\n",
              "      <th>max</th>\n",
              "    </tr>\n",
              "  </thead>\n",
              "  <tbody>\n",
              "    <tr>\n",
              "      <th>user_id</th>\n",
              "      <td>151114.0</td>\n",
              "      <td>2.003007e+05</td>\n",
              "      <td>1.207505e+05</td>\n",
              "      <td>2.000000</td>\n",
              "      <td>1.006435e+05</td>\n",
              "      <td>1.999625e+05</td>\n",
              "      <td>3.000615e+05</td>\n",
              "      <td>9.999000e+06</td>\n",
              "    </tr>\n",
              "    <tr>\n",
              "      <th>purchase_value</th>\n",
              "      <td>151112.0</td>\n",
              "      <td>3.693537e+01</td>\n",
              "      <td>1.832276e+01</td>\n",
              "      <td>9.000000</td>\n",
              "      <td>2.200000e+01</td>\n",
              "      <td>3.500000e+01</td>\n",
              "      <td>4.900000e+01</td>\n",
              "      <td>1.540000e+02</td>\n",
              "    </tr>\n",
              "    <tr>\n",
              "      <th>age</th>\n",
              "      <td>151112.0</td>\n",
              "      <td>3.314070e+01</td>\n",
              "      <td>8.617733e+00</td>\n",
              "      <td>18.000000</td>\n",
              "      <td>2.700000e+01</td>\n",
              "      <td>3.300000e+01</td>\n",
              "      <td>3.900000e+01</td>\n",
              "      <td>7.600000e+01</td>\n",
              "    </tr>\n",
              "    <tr>\n",
              "      <th>ip_address</th>\n",
              "      <td>151113.0</td>\n",
              "      <td>2.152158e+09</td>\n",
              "      <td>1.248503e+09</td>\n",
              "      <td>52093.496895</td>\n",
              "      <td>1.085939e+09</td>\n",
              "      <td>2.154785e+09</td>\n",
              "      <td>3.243264e+09</td>\n",
              "      <td>4.294850e+09</td>\n",
              "    </tr>\n",
              "    <tr>\n",
              "      <th>class</th>\n",
              "      <td>151112.0</td>\n",
              "      <td>9.364577e-02</td>\n",
              "      <td>2.913362e-01</td>\n",
              "      <td>0.000000</td>\n",
              "      <td>0.000000e+00</td>\n",
              "      <td>0.000000e+00</td>\n",
              "      <td>0.000000e+00</td>\n",
              "      <td>1.000000e+00</td>\n",
              "    </tr>\n",
              "  </tbody>\n",
              "</table>\n",
              "</div>"
            ],
            "text/plain": [
              "                   count          mean  ...           75%           max\n",
              "user_id         151114.0  2.003007e+05  ...  3.000615e+05  9.999000e+06\n",
              "purchase_value  151112.0  3.693537e+01  ...  4.900000e+01  1.540000e+02\n",
              "age             151112.0  3.314070e+01  ...  3.900000e+01  7.600000e+01\n",
              "ip_address      151113.0  2.152158e+09  ...  3.243264e+09  4.294850e+09\n",
              "class           151112.0  9.364577e-02  ...  0.000000e+00  1.000000e+00\n",
              "\n",
              "[5 rows x 8 columns]"
            ]
          },
          "metadata": {
            "tags": []
          },
          "execution_count": 48
        }
      ]
    },
    {
      "cell_type": "markdown",
      "metadata": {
        "id": "MDY92iz6TSi1",
        "colab_type": "text"
      },
      "source": [
        "## VALORES FALTANTES (MISSING)"
      ]
    },
    {
      "cell_type": "code",
      "metadata": {
        "id": "W14d820t7wYM",
        "colab_type": "code",
        "outputId": "45a0eed1-7335-40ec-b575-2adc019ac710",
        "colab": {
          "base_uri": "https://localhost:8080/",
          "height": 230
        }
      },
      "source": [
        "# Verificando se há atributos com dados faltantes (Missing ou NA). Aqueles que tiverem estão com valor maior que zero\n",
        "dfbase.isna().sum()"
      ],
      "execution_count": 49,
      "outputs": [
        {
          "output_type": "execute_result",
          "data": {
            "text/plain": [
              "user_id           0\n",
              "signup_time       0\n",
              "purchase_time     2\n",
              "purchase_value    2\n",
              "device_id         1\n",
              "source            1\n",
              "browser           0\n",
              "sex               1\n",
              "age               2\n",
              "ip_address        1\n",
              "class             2\n",
              "dtype: int64"
            ]
          },
          "metadata": {
            "tags": []
          },
          "execution_count": 49
        }
      ]
    },
    {
      "cell_type": "code",
      "metadata": {
        "id": "m3ZD0Bw4TcJD",
        "colab_type": "code",
        "colab": {
          "base_uri": "https://localhost:8080/",
          "height": 106
        },
        "outputId": "4159b53f-b165-43c0-ec1d-71d077fbb266"
      },
      "source": [
        "# Visualizando as linhas que tenham o atributo específico com valores faltantes (NA)\n",
        "dfbase[dfbase['purchase_time'].isna()]"
      ],
      "execution_count": 39,
      "outputs": [
        {
          "output_type": "execute_result",
          "data": {
            "text/html": [
              "<div>\n",
              "<style scoped>\n",
              "    .dataframe tbody tr th:only-of-type {\n",
              "        vertical-align: middle;\n",
              "    }\n",
              "\n",
              "    .dataframe tbody tr th {\n",
              "        vertical-align: top;\n",
              "    }\n",
              "\n",
              "    .dataframe thead th {\n",
              "        text-align: right;\n",
              "    }\n",
              "</style>\n",
              "<table border=\"1\" class=\"dataframe\">\n",
              "  <thead>\n",
              "    <tr style=\"text-align: right;\">\n",
              "      <th></th>\n",
              "      <th>user_id</th>\n",
              "      <th>signup_time</th>\n",
              "      <th>purchase_time</th>\n",
              "      <th>purchase_value</th>\n",
              "      <th>device_id</th>\n",
              "      <th>source</th>\n",
              "      <th>browser</th>\n",
              "      <th>sex</th>\n",
              "      <th>age</th>\n",
              "      <th>ip_address</th>\n",
              "      <th>class</th>\n",
              "    </tr>\n",
              "  </thead>\n",
              "  <tbody>\n",
              "    <tr>\n",
              "      <th>151077</th>\n",
              "      <td>9999000</td>\n",
              "      <td>2015-02-01 00:00:00</td>\n",
              "      <td>NaN</td>\n",
              "      <td>NaN</td>\n",
              "      <td>NaN</td>\n",
              "      <td>NaN</td>\n",
              "      <td>Firefox</td>\n",
              "      <td>NaN</td>\n",
              "      <td>NaN</td>\n",
              "      <td>NaN</td>\n",
              "      <td>NaN</td>\n",
              "    </tr>\n",
              "    <tr>\n",
              "      <th>151111</th>\n",
              "      <td>9999000</td>\n",
              "      <td>2015-01-01 07:02:20</td>\n",
              "      <td>NaN</td>\n",
              "      <td>NaN</td>\n",
              "      <td>ZINIADFCLHYPG</td>\n",
              "      <td>Direct</td>\n",
              "      <td>IE</td>\n",
              "      <td>M</td>\n",
              "      <td>NaN</td>\n",
              "      <td>4.103825e+09</td>\n",
              "      <td>NaN</td>\n",
              "    </tr>\n",
              "  </tbody>\n",
              "</table>\n",
              "</div>"
            ],
            "text/plain": [
              "        user_id          signup_time purchase_time  ...  age    ip_address class\n",
              "151077  9999000  2015-02-01 00:00:00           NaN  ...  NaN           NaN   NaN\n",
              "151111  9999000  2015-01-01 07:02:20           NaN  ...  NaN  4.103825e+09   NaN\n",
              "\n",
              "[2 rows x 11 columns]"
            ]
          },
          "metadata": {
            "tags": []
          },
          "execution_count": 39
        }
      ]
    },
    {
      "cell_type": "markdown",
      "metadata": {
        "id": "GzVbPo8zc8r3",
        "colab_type": "text"
      },
      "source": [
        "Há vários tipos de tratamentos que podem ser efetuados para valores faltantes. Entre eles são:\n",
        "* 1- Excluir a linha toda.\n",
        "* 2- Manter a linha mas excluir a coluna toda de todas as linhas.\n",
        "* 3- Substituir o valor faltante por um outro (como por zero, valor da média, etc).\n",
        "* Há outros tratamentos mas listei apenas alguns. Os detalhes de todas opções vale um script específico para esse tema.\n",
        "\n",
        "Para decidir qual utilizar, deve ser feito realmente uma análise detalhada.\n",
        "- A primeira opção é a mais fácil mas por outro lado, pode perder informações que são necessárias.\n",
        "- Similar a segunda opção, pois pode perder informações importantes das outras linhas que possuem dados.\n",
        "- A terceira opção é uma forma mas dependendo pode impactar na análise final\n",
        "\n",
        "\n",
        "Irei utilizar para esse caso a primeira opção, excluir todas as linhas.\n",
        "Farei isso porque essas linhas não possuem alguns atributos  importantes preenchidos que serão usados como previsores, como a data da compra, valor da compra e nem o atributo class que será usado como target para treino e teste. Ou seja, a exclusão dessas linhas não impactará no resultado final.\n"
      ]
    },
    {
      "cell_type": "code",
      "metadata": {
        "id": "b6hdbPXzcwS5",
        "colab_type": "code",
        "colab": {
          "base_uri": "https://localhost:8080/",
          "height": 230
        },
        "outputId": "41624fe0-046c-43e8-e27c-15f5d2206150"
      },
      "source": [
        "# Excluindo (apenas) as linhas cuja coluna purchase_time esteja linha. \n",
        "dfbase = dfbase.dropna(subset=['purchase_time'])\n",
        "dfbase.isna().sum()"
      ],
      "execution_count": 114,
      "outputs": [
        {
          "output_type": "execute_result",
          "data": {
            "text/plain": [
              "user_id           0\n",
              "signup_time       0\n",
              "purchase_time     0\n",
              "purchase_value    0\n",
              "device_id         0\n",
              "source            0\n",
              "browser           0\n",
              "sex               0\n",
              "age               0\n",
              "ip_address        0\n",
              "class             0\n",
              "dtype: int64"
            ]
          },
          "metadata": {
            "tags": []
          },
          "execution_count": 114
        }
      ]
    },
    {
      "cell_type": "code",
      "metadata": {
        "id": "jhS6A2kZhu3t",
        "colab_type": "code",
        "colab": {
          "base_uri": "https://localhost:8080/",
          "height": 35
        },
        "outputId": "65fea083-a5b5-4a5d-8527-9645a60ac549"
      },
      "source": [
        "# Listando a quantidade de linhas. Veja que diminiu a qtde.\n",
        "print(dfbase.shape)"
      ],
      "execution_count": 53,
      "outputs": [
        {
          "output_type": "stream",
          "text": [
            "(151112, 11)\n"
          ],
          "name": "stdout"
        }
      ]
    },
    {
      "cell_type": "markdown",
      "metadata": {
        "id": "pwQ8Hu6eAw0P",
        "colab_type": "text"
      },
      "source": [
        "# 3 . TRANSFORMAÇÃO\n",
        "\n",
        "Pode ocorrer que somente os atributos carregados não sejam suficientes ou na sua forma original não seja utilizável.\n",
        "\n",
        "Nessas situações pode ser criado novos atributos a partir de transformações dos atuais.\n",
        "\n",
        "No caso desse dataset, será criado um campo Tempo da diferença entre a data da compra e a data do cadastro do cliente."
      ]
    },
    {
      "cell_type": "code",
      "metadata": {
        "id": "eAlxlhkwCZUA",
        "colab_type": "code",
        "colab": {
          "base_uri": "https://localhost:8080/",
          "height": 230
        },
        "outputId": "d8c892bd-ee98-49b9-f18a-6495fa4aaee9"
      },
      "source": [
        "import pandas as pd\n",
        "\n",
        "# Convertendo os campos de datas que estavam como Object (ou seja, alfanumérico) para o tipo Datetime\n",
        "dfbase['signup_time'] = pd.to_datetime(dfbase['signup_time'])\n",
        "dfbase['purchase_time'] = pd.to_datetime(dfbase['purchase_time'])\n",
        "\n",
        "dfbase.dtypes"
      ],
      "execution_count": 115,
      "outputs": [
        {
          "output_type": "execute_result",
          "data": {
            "text/plain": [
              "user_id                    int64\n",
              "signup_time       datetime64[ns]\n",
              "purchase_time     datetime64[ns]\n",
              "purchase_value           float64\n",
              "device_id                 object\n",
              "source                    object\n",
              "browser                   object\n",
              "sex                       object\n",
              "age                      float64\n",
              "ip_address               float64\n",
              "class                    float64\n",
              "dtype: object"
            ]
          },
          "metadata": {
            "tags": []
          },
          "execution_count": 115
        }
      ]
    },
    {
      "cell_type": "code",
      "metadata": {
        "id": "MfVz8kGfmnb0",
        "colab_type": "code",
        "colab": {
          "base_uri": "https://localhost:8080/",
          "height": 230
        },
        "outputId": "218b57ab-ce66-4b3c-f3c3-8ea45f59ca95"
      },
      "source": [
        "# Criando um novo atributo: tempo do cliente (em dias) entre a data da compra e do seu cadastro\n",
        "dfbase['diff_time'] = ((dfbase['purchase_time'] - dfbase['signup_time']).astype('timedelta64[h]'))/24\n",
        "\n",
        "dfbase['diff_time']"
      ],
      "execution_count": 116,
      "outputs": [
        {
          "output_type": "execute_result",
          "data": {
            "text/plain": [
              "0         52.125000\n",
              "1          0.166667\n",
              "2          0.000000\n",
              "3          5.666667\n",
              "4         50.458333\n",
              "            ...    \n",
              "151108    60.875000\n",
              "151109    10.750000\n",
              "151110    77.333333\n",
              "151112    59.541667\n",
              "151113    40.791667\n",
              "Name: diff_time, Length: 151112, dtype: float64"
            ]
          },
          "metadata": {
            "tags": []
          },
          "execution_count": 116
        }
      ]
    },
    {
      "cell_type": "code",
      "metadata": {
        "id": "RMnT1YDErCUG",
        "colab_type": "code",
        "colab": {
          "base_uri": "https://localhost:8080/",
          "height": 230
        },
        "outputId": "9cd9d0da-f7ba-4233-837d-37835e385589"
      },
      "source": [
        "# Criando um novo atributo. Mês da compra\n",
        "\n",
        "dfbase['purchase_month'] = dfbase['purchase_time'].dt.month\n",
        "dfbase['purchase_month']"
      ],
      "execution_count": 117,
      "outputs": [
        {
          "output_type": "execute_result",
          "data": {
            "text/plain": [
              "0         4\n",
              "1         6\n",
              "2         1\n",
              "3         5\n",
              "4         9\n",
              "         ..\n",
              "151108    3\n",
              "151109    5\n",
              "151110    5\n",
              "151112    9\n",
              "151113    7\n",
              "Name: purchase_month, Length: 151112, dtype: int64"
            ]
          },
          "metadata": {
            "tags": []
          },
          "execution_count": 117
        }
      ]
    },
    {
      "cell_type": "markdown",
      "metadata": {
        "id": "w7Zf6YrnBszh",
        "colab_type": "text"
      },
      "source": [
        "# 3 . FE - FEATURE ENGINEERNING / FEATURE SELECTION\n",
        "\n",
        "A etapa de Seleção dos Atributos (Feature Selection) é uma das mais importantes para a construção de um modelo preditivo.\n",
        "\n",
        "A simples escolha ou não de determinados atributos impacta diretamente no resultado.\n",
        "Para isso, há várias técnicas a serem utilizadas.\n",
        "\n",
        "Porém, nessa versão básica, será apenas escolhido manualmente os atributos.\n",
        "Na próxima versão mais avançada, serão apresentados algumas das técnicas e efetuados as comparações os resultados."
      ]
    },
    {
      "cell_type": "markdown",
      "metadata": {
        "id": "wJAY1fpAogWE",
        "colab_type": "text"
      },
      "source": [
        "Explicação da não escolha dos atributos:\n",
        "* user_id\n",
        "  * é um campo de identificação, único e totalmente específico. Não produz relevância para fazer predições de novos clientes. Ao contrário, seu uso pode gerar distorções no modelo gerado.\n",
        "* device_id\n",
        "  * idem acima.\n",
        "* id_address\n",
        "  * idem acima se usado o código inteiro. Porém, para um processo de análise mais avançado, poderia ser utilizado changes do IP para determinar regiões que são mais sucessíveis a fraudes.\n",
        "* signup_time\n",
        "  * ao invés de utilizar a data específica, vamos utilizar o campo diff_time que foi criado.\n",
        "* purchase_time\n",
        "  * para esse modelo específico, vamos utilizar o campo diff_time criado e o purchase_month, que é o mês da compra.\n",
        "\n",
        "\n",
        "Sobre os atributos que foram selecionados, isso não significa que necessariamente todos são relevantes para a montagem do modelo.\n",
        "Isso será identificados nas técnicas de Feature Selection, onde será feitos algumas simulações para verificar quais conjuntos de atributos trazem melhor resultados.\n"
      ]
    },
    {
      "cell_type": "code",
      "metadata": {
        "id": "nl7MNePgB9tF",
        "colab_type": "code",
        "colab": {}
      },
      "source": [
        "# Montando o dataframe apenas com os campos considerados relevantes\n",
        "dfbase_final = dfbase.loc[:, ['purchase_value' ,'source',\t'browser', 'sex', 'age', 'diff_time', 'purchase_month', 'class']]\n"
      ],
      "execution_count": 0,
      "outputs": []
    },
    {
      "cell_type": "markdown",
      "metadata": {
        "id": "lE1mhNZMAkau",
        "colab_type": "text"
      },
      "source": [
        "# 4 . SPLITING X e Y"
      ]
    },
    {
      "cell_type": "code",
      "metadata": {
        "id": "TctZuTys80DA",
        "colab_type": "code",
        "colab": {}
      },
      "source": [
        "# Montando a base dos atributos previsores (X) e a base do alvo (Y)\n",
        "X_previsores = dfbase_final.iloc[:,0:6].values\n",
        "Y_target = dfbase_final.iloc[:, 7].values"
      ],
      "execution_count": 0,
      "outputs": []
    },
    {
      "cell_type": "markdown",
      "metadata": {
        "id": "p8iAgH5wtePf",
        "colab_type": "text"
      },
      "source": [
        "## Label Enconder\n",
        "\n",
        "Alguns algoritmos requerem que os dados estejam preenchidos com números e não com descrições alfanuméricos (texto).\n",
        "Nesse caso, aplica-se uma técnica para gerar códigos numéricos para cada atributo."
      ]
    },
    {
      "cell_type": "code",
      "metadata": {
        "id": "T-a8yhsoIuCw",
        "colab_type": "code",
        "colab": {}
      },
      "source": [
        "from sklearn.preprocessing import LabelEncoder\n",
        "\n",
        "labelencoder = LabelEncoder()\n",
        "\n",
        "X_previsores[:, 1] = labelencoder.fit_transform(X_previsores[:, 1])\n",
        "X_previsores[:, 2] = labelencoder.fit_transform(X_previsores[:, 2])\n",
        "X_previsores[:, 3] = labelencoder.fit_transform(X_previsores[:, 3]) \n"
      ],
      "execution_count": 0,
      "outputs": []
    },
    {
      "cell_type": "code",
      "metadata": {
        "id": "wp6VpPsG9-iG",
        "colab_type": "code",
        "colab": {}
      },
      "source": [
        "# Gerando as bases de Treino e de Teste\n",
        "from sklearn.model_selection import train_test_split\n",
        "\n",
        "X_treino, X_teste, Y_treino, Y_teste = train_test_split(X_previsores, Y_target)"
      ],
      "execution_count": 0,
      "outputs": []
    },
    {
      "cell_type": "markdown",
      "metadata": {
        "id": "TjMJmWBpBCAJ",
        "colab_type": "text"
      },
      "source": [
        "# 5 . TREINANDO (FITTING)\n",
        "\n",
        "Iremos gerar 6 modelos e comparar seus resultados.\n",
        "\n",
        "Obs: é possível otimizar a execução de mais de um modelo em um loop.\n",
        "Porém, para essa primeira versão, deixarei uma célula para cada tipo de modelo para ficar didaticamente mais fácil.\n",
        "Nas próximas, irei montar usando um loop para executar todas."
      ]
    },
    {
      "cell_type": "markdown",
      "metadata": {
        "id": "PRNFxCnIiIZ-",
        "colab_type": "text"
      },
      "source": [
        "## LOGISTIC REGRESSION"
      ]
    },
    {
      "cell_type": "code",
      "metadata": {
        "id": "8KNdPjnQ8ACm",
        "colab_type": "code",
        "colab": {}
      },
      "source": [
        "from sklearn.metrics import accuracy_score, confusion_matrix\n",
        "\n",
        "# Montando o modelo\n",
        "from sklearn.linear_model import LogisticRegression\n",
        "\n",
        "modelo_LR = LogisticRegression()\n",
        "\n",
        "# Treinando o modelo\n",
        "modelo_LR.fit(X_treino, Y_treino)\n",
        "\n",
        "# Predição\n",
        "predicao_LR = modelo_LR.predict(X_teste)\n",
        "\n",
        "acuracia_LR = accuracy_score(Y_teste, predicao_LR)"
      ],
      "execution_count": 0,
      "outputs": []
    },
    {
      "cell_type": "markdown",
      "metadata": {
        "id": "wMszt9rgxen3",
        "colab_type": "text"
      },
      "source": [
        "## NAIVE BAYES"
      ]
    },
    {
      "cell_type": "code",
      "metadata": {
        "id": "qimeOlLyxhAe",
        "colab_type": "code",
        "colab": {}
      },
      "source": [
        "# Montando o modelo\n",
        "from sklearn.naive_bayes import GaussianNB\n",
        "\n",
        "modelo_NB = GaussianNB()\n",
        "\n",
        "# Treinando o modelo\n",
        "modelo_NB.fit(X_treino, Y_treino)\n",
        "\n",
        "# Predição\n",
        "predicao_NB = modelo_NB.predict(X_teste)\n",
        "\n",
        "acuracia_NB = accuracy_score(Y_teste,predicao_NB)"
      ],
      "execution_count": 0,
      "outputs": []
    },
    {
      "cell_type": "markdown",
      "metadata": {
        "id": "mLzMJwMVih0N",
        "colab_type": "text"
      },
      "source": [
        "## DECISION TREE"
      ]
    },
    {
      "cell_type": "code",
      "metadata": {
        "id": "oZa4Hl4dibHD",
        "colab_type": "code",
        "colab": {}
      },
      "source": [
        "# Montando o modelo\n",
        "from sklearn.tree import DecisionTreeClassifier\n",
        "\n",
        "modelo_DT = DecisionTreeClassifier()\n",
        "\n",
        "# Treinando o modelo\n",
        "modelo_DT.fit(X_treino, Y_treino)\n",
        "\n",
        "# Predição\n",
        "predicao_DT = modelo_DT.predict(X_teste)\n",
        "\n",
        "acuracia_DT = accuracy_score(Y_teste, predicao_DT)"
      ],
      "execution_count": 0,
      "outputs": []
    },
    {
      "cell_type": "markdown",
      "metadata": {
        "id": "RUGvzOo3w7_a",
        "colab_type": "text"
      },
      "source": [
        "## RANDOM FOREST"
      ]
    },
    {
      "cell_type": "code",
      "metadata": {
        "id": "r4TwJyEQnKf8",
        "colab_type": "code",
        "colab": {}
      },
      "source": [
        "# Montando o modelo\n",
        "from sklearn.ensemble import RandomForestClassifier\n",
        "\n",
        "modelo_RF = RandomForestClassifier()\n",
        "\n",
        "# Treinando o modelo\n",
        "modelo_RF.fit(X_treino, Y_treino)\n",
        "\n",
        "# Predição\n",
        "predicao_RF = modelo_RF.predict(X_teste)\n",
        "\n",
        "acuracia_RF = accuracy_score(Y_teste, predicao_RF)"
      ],
      "execution_count": 0,
      "outputs": []
    },
    {
      "cell_type": "markdown",
      "metadata": {
        "id": "JDTX7J1gxA7m",
        "colab_type": "text"
      },
      "source": [
        "## KNN"
      ]
    },
    {
      "cell_type": "code",
      "metadata": {
        "id": "8VTsMhfHnfYE",
        "colab_type": "code",
        "colab": {}
      },
      "source": [
        "# Montando o modelo\n",
        "from sklearn.neighbors import KNeighborsClassifier\n",
        "\n",
        "modelo_KNN = KNeighborsClassifier()\n",
        "\n",
        "# Treinando o modelo\n",
        "modelo_KNN.fit(X_treino, Y_treino)\n",
        "\n",
        "# Predição\n",
        "predicao_KNN = modelo_KNN.predict(X_teste)\n",
        "\n",
        "acuracia_KNN = accuracy_score(Y_teste, predicao_KNN)"
      ],
      "execution_count": 0,
      "outputs": []
    },
    {
      "cell_type": "markdown",
      "metadata": {
        "id": "VxqANmk8yneK",
        "colab_type": "text"
      },
      "source": [
        "## SVM"
      ]
    },
    {
      "cell_type": "code",
      "metadata": {
        "id": "XoCB0qTdypKo",
        "colab_type": "code",
        "colab": {}
      },
      "source": [
        "from sklearn.svm import SVC\n",
        "\n",
        "modelo_SVM = SVC()\n",
        "\n",
        "modelo_SVM.fit(X_treino, Y_treino)\n",
        "\n",
        "predicao_SVM = modelo_SVM.predict(X_teste)\n",
        "\n",
        "acuracia_SVM = accuracy_score(Y_teste, predicao_SVM)"
      ],
      "execution_count": 0,
      "outputs": []
    },
    {
      "cell_type": "markdown",
      "metadata": {
        "id": "cDwLyGX_KqkU",
        "colab_type": "text"
      },
      "source": [
        "## Neural Network"
      ]
    },
    {
      "cell_type": "code",
      "metadata": {
        "id": "pJnk5mt3KN7q",
        "colab_type": "code",
        "colab": {}
      },
      "source": [
        "from sklearn.neural_network import MLPClassifier\n",
        "\n",
        "modelo_NN = MLPClassifier()\n",
        "\n",
        "modelo_NN.fit(X_treino, Y_treino)\n",
        "\n",
        "predicao_NN = modelo_NN.predict(X_teste)\n",
        "\n",
        "acuracia_NN = accuracy_score(Y_teste, predicao_NN)"
      ],
      "execution_count": 0,
      "outputs": []
    },
    {
      "cell_type": "markdown",
      "metadata": {
        "id": "-33DWD3Ii7uj",
        "colab_type": "text"
      },
      "source": [
        "# 6 . VALIDAÇÃO"
      ]
    },
    {
      "cell_type": "code",
      "metadata": {
        "id": "0Nof_xOVb_6K",
        "colab_type": "code",
        "outputId": "66d64fa1-c187-4199-d3ae-93b7d490ded8",
        "colab": {
          "base_uri": "https://localhost:8080/",
          "height": 252
        }
      },
      "source": [
        "acuracias=[]\n",
        "acuracias.append(['Logistic Regression', round(acuracia_LR*100, 2)])\n",
        "acuracias.append(['KNN', round(acuracia_KNN*100, 2)])\n",
        "acuracias.append(['Naives Bayes', round(acuracia_NB*100, 2)])\n",
        "acuracias.append(['Decision Tree', round(acuracia_DT*100, 2)])\n",
        "acuracias.append(['Random Forest', round(acuracia_RF*100, 2)]) \n",
        "acuracias.append(['SVM', round(acuracia_SVM*100, 2)]) \n",
        "acuracias.append(['Neural Network', round(acuracia_NN*100, 2)]) \n",
        "\n",
        "dfacuracias = pd.DataFrame(acuracias)\n",
        "dfacuracias.columns = ['Modelo', 'Acurácia']\n",
        "dfacuracias\n"
      ],
      "execution_count": 130,
      "outputs": [
        {
          "output_type": "execute_result",
          "data": {
            "text/html": [
              "<div>\n",
              "<style scoped>\n",
              "    .dataframe tbody tr th:only-of-type {\n",
              "        vertical-align: middle;\n",
              "    }\n",
              "\n",
              "    .dataframe tbody tr th {\n",
              "        vertical-align: top;\n",
              "    }\n",
              "\n",
              "    .dataframe thead th {\n",
              "        text-align: right;\n",
              "    }\n",
              "</style>\n",
              "<table border=\"1\" class=\"dataframe\">\n",
              "  <thead>\n",
              "    <tr style=\"text-align: right;\">\n",
              "      <th></th>\n",
              "      <th>Modelo</th>\n",
              "      <th>Acurácia</th>\n",
              "    </tr>\n",
              "  </thead>\n",
              "  <tbody>\n",
              "    <tr>\n",
              "      <th>0</th>\n",
              "      <td>Logistic Regression</td>\n",
              "      <td>90.62</td>\n",
              "    </tr>\n",
              "    <tr>\n",
              "      <th>1</th>\n",
              "      <td>KNN</td>\n",
              "      <td>94.84</td>\n",
              "    </tr>\n",
              "    <tr>\n",
              "      <th>2</th>\n",
              "      <td>Naives Bayes</td>\n",
              "      <td>90.62</td>\n",
              "    </tr>\n",
              "    <tr>\n",
              "      <th>3</th>\n",
              "      <td>Decision Tree</td>\n",
              "      <td>90.93</td>\n",
              "    </tr>\n",
              "    <tr>\n",
              "      <th>4</th>\n",
              "      <td>Random Forest</td>\n",
              "      <td>95.62</td>\n",
              "    </tr>\n",
              "    <tr>\n",
              "      <th>5</th>\n",
              "      <td>SVM</td>\n",
              "      <td>93.39</td>\n",
              "    </tr>\n",
              "    <tr>\n",
              "      <th>6</th>\n",
              "      <td>Neural Network</td>\n",
              "      <td>95.69</td>\n",
              "    </tr>\n",
              "  </tbody>\n",
              "</table>\n",
              "</div>"
            ],
            "text/plain": [
              "                Modelo  Acurácia\n",
              "0  Logistic Regression     90.62\n",
              "1                  KNN     94.84\n",
              "2         Naives Bayes     90.62\n",
              "3        Decision Tree     90.93\n",
              "4        Random Forest     95.62\n",
              "5                  SVM     93.39\n",
              "6       Neural Network     95.69"
            ]
          },
          "metadata": {
            "tags": []
          },
          "execution_count": 130
        }
      ]
    },
    {
      "cell_type": "code",
      "metadata": {
        "id": "xd6l1fhYucJn",
        "colab_type": "code",
        "outputId": "86c3ef81-76f7-47ba-807d-6f75424211c5",
        "colab": {
          "base_uri": "https://localhost:8080/",
          "height": 452
        }
      },
      "source": [
        "import matplotlib.pyplot as plt\n",
        "\n",
        "dfacuracias.plot.barh( )"
      ],
      "execution_count": 112,
      "outputs": [
        {
          "output_type": "execute_result",
          "data": {
            "text/plain": [
              "<matplotlib.axes._subplots.AxesSubplot at 0x7f1863e24438>"
            ]
          },
          "metadata": {
            "tags": []
          },
          "execution_count": 112
        },
        {
          "output_type": "display_data",
          "data": {
            "image/png": "[encoded data removed]",
            "text/plain": [
              "<Figure size 640x480 with 1 Axes>"
            ]
          },
          "metadata": {
            "tags": []
          }
        }
      ]
    }
  ]
}