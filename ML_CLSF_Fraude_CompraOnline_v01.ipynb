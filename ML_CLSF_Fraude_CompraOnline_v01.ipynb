{
 "cells": [
  {
   "cell_type": "markdown",
   "metadata": {
    "colab_type": "text",
    "id": "opzdpbjpcVIQ"
   },
   "source": [
    "# DETECÇÃO DE FRAUDES DE COMPRAS ONLINE\n",
    "\n",
    "## Definição do Escopo do negócio\n",
    "\n",
    "O escopo é a identificação de Fraudes nas Compras de E-commerce. \n",
    "A partir do dataset, que é um arquivo que contém os clientes e suas compras, será gerado modelos preditivos que classificará novas compras de clientes como sendo fraude ou não. \n",
    "\n",
    "## Versão 1\n",
    "Essa versão é uma implementação mais simples, cujo objetivo é ter a visão mais básica de uma implementação e comparar seu resultado com as próximas versões onde serão aplicadas diversas técnicas de otimização.\n",
    "Assim, várias técnicas de análise, otimização serão analisadas no script da versão 2.\n",
    "\n",
    "Sendo assim, essa versão 1 não deve ser considerado como a versão final e definitiva mas sim, uma versão inicial para conhecimento do básico e assim poder avançar para as versões mais avançadas e finais.\n",
    "\n",
    "## Fluxo implementado:\n",
    "\n",
    "*   Carga do Dataset\n",
    "*   Análise Exploratória dos Dados (EDA)\n",
    "    * Label Encoder\n",
    "*   Separação dos Dados de Treino e Teste (Spliting)\n",
    "*   Treinamento (Fitting), criando 5 modelos de classificação:\n",
    "    * Naive Bayes\n",
    "    * Regressão Logistica (Logistic Regression)\n",
    "    * KNN\n",
    "    * Árvore de Decisão (Decision Tree)\n",
    "    * Random Forest\n",
    "*   Validação/Acurácia e comparativos\n"
   ]
  },
  {
   "cell_type": "markdown",
   "metadata": {
    "colab_type": "text",
    "id": "52NOkWqY_lg1"
   },
   "source": [
    "# 1 . DATASET"
   ]
  },
  {
   "cell_type": "code",
   "execution_count": 1,
   "metadata": {
    "colab": {
     "base_uri": "https://localhost:8080/",
     "height": 35
    },
    "colab_type": "code",
    "id": "TSJ6mdPY0M3O",
    "outputId": "1f25586f-ec3d-42a4-ea13-3b2d3f9f5b38"
   },
   "outputs": [
    {
     "data": {
      "text/plain": [
       "(151114, 11)"
      ]
     },
     "execution_count": 1,
     "metadata": {},
     "output_type": "execute_result"
    }
   ],
   "source": [
    "# Importando arquivos\n",
    "from pandas import read_csv\n",
    "import warnings\n",
    "warnings.filterwarnings('ignore')\n",
    "\n",
    "arquivo = 'fraud_ecommerce.csv'\n",
    "dfbase = read_csv(arquivo)\n",
    "\n",
    "# Retorna a qtde de linha e colunas carregadas\n",
    "dfbase.shape"
   ]
  },
  {
   "cell_type": "markdown",
   "metadata": {
    "colab_type": "text",
    "id": "-WssorTI_7gH"
   },
   "source": [
    "# 2 . ANÁLISE EXPLORATÓRIA DOS DADOS (EDA - EXPLORATORY DATA ANALYSIS)\n",
    "\n",
    "A Análise Exploratória dos Dados (EDA - Exploratory Data Analysis) é considerada a etapa mais importante e crucial da montagem de um modelo preditivo.\n",
    "\n",
    "Pois é o início de tudo, que irá ditar quais as técnicas a serem utilizadas, quais transformações que devem ser efetuadas e que podem melhorar o aprendizado do modelo.\n",
    "Uma análise exploratória bem efetuada gerará um aprendizado do modelo mais apurado e consequentemente resultadará em uma melhor acurácia.\n",
    "\n",
    "Para essa versão básica, iremos usar uma análise exploratória mais simples para justamente nas versões mais avançadas aplicando as análises mais apuradas, compararmos os resultados."
   ]
  },
  {
   "cell_type": "code",
   "execution_count": 2,
   "metadata": {
    "colab": {
     "base_uri": "https://localhost:8080/",
     "height": 340
    },
    "colab_type": "code",
    "id": "0IByAhYS7ByW",
    "outputId": "8b6f8ce1-f95d-4457-c3b8-b0d5647d913d"
   },
   "outputs": [
    {
     "data": {
      "text/html": [
       "<div>\n",
       "<style scoped>\n",
       "    .dataframe tbody tr th:only-of-type {\n",
       "        vertical-align: middle;\n",
       "    }\n",
       "\n",
       "    .dataframe tbody tr th {\n",
       "        vertical-align: top;\n",
       "    }\n",
       "\n",
       "    .dataframe thead th {\n",
       "        text-align: right;\n",
       "    }\n",
       "</style>\n",
       "<table border=\"1\" class=\"dataframe\">\n",
       "  <thead>\n",
       "    <tr style=\"text-align: right;\">\n",
       "      <th></th>\n",
       "      <th>user_id</th>\n",
       "      <th>signup_time</th>\n",
       "      <th>purchase_time</th>\n",
       "      <th>purchase_value</th>\n",
       "      <th>device_id</th>\n",
       "      <th>source</th>\n",
       "      <th>browser</th>\n",
       "      <th>sex</th>\n",
       "      <th>age</th>\n",
       "      <th>ip_address</th>\n",
       "      <th>class</th>\n",
       "    </tr>\n",
       "  </thead>\n",
       "  <tbody>\n",
       "    <tr>\n",
       "      <td>0</td>\n",
       "      <td>22058</td>\n",
       "      <td>2015-02-24 22:55:49</td>\n",
       "      <td>2015-04-18 02:47:11</td>\n",
       "      <td>34.0</td>\n",
       "      <td>QVPSPJUOCKZAR</td>\n",
       "      <td>SEO</td>\n",
       "      <td>Chrome</td>\n",
       "      <td>M</td>\n",
       "      <td>39.0</td>\n",
       "      <td>7.327584e+08</td>\n",
       "      <td>0.0</td>\n",
       "    </tr>\n",
       "    <tr>\n",
       "      <td>1</td>\n",
       "      <td>333320</td>\n",
       "      <td>2015-06-07 20:39:50</td>\n",
       "      <td>2015-06-08 01:38:54</td>\n",
       "      <td>16.0</td>\n",
       "      <td>EOGFQPIZPYXFZ</td>\n",
       "      <td>Ads</td>\n",
       "      <td>Chrome</td>\n",
       "      <td>F</td>\n",
       "      <td>53.0</td>\n",
       "      <td>3.503114e+08</td>\n",
       "      <td>0.0</td>\n",
       "    </tr>\n",
       "    <tr>\n",
       "      <td>2</td>\n",
       "      <td>1359</td>\n",
       "      <td>2015-01-01 18:52:44</td>\n",
       "      <td>2015-01-01 18:52:45</td>\n",
       "      <td>15.0</td>\n",
       "      <td>YSSKYOSJHPPLJ</td>\n",
       "      <td>SEO</td>\n",
       "      <td>Opera</td>\n",
       "      <td>M</td>\n",
       "      <td>53.0</td>\n",
       "      <td>2.621474e+09</td>\n",
       "      <td>1.0</td>\n",
       "    </tr>\n",
       "    <tr>\n",
       "      <td>3</td>\n",
       "      <td>150084</td>\n",
       "      <td>2015-04-28 21:13:25</td>\n",
       "      <td>2015-05-04 13:54:50</td>\n",
       "      <td>44.0</td>\n",
       "      <td>ATGTXKYKUDUQN</td>\n",
       "      <td>SEO</td>\n",
       "      <td>Safari</td>\n",
       "      <td>M</td>\n",
       "      <td>41.0</td>\n",
       "      <td>3.840542e+09</td>\n",
       "      <td>0.0</td>\n",
       "    </tr>\n",
       "    <tr>\n",
       "      <td>4</td>\n",
       "      <td>221365</td>\n",
       "      <td>2015-07-21 07:09:52</td>\n",
       "      <td>2015-09-09 18:40:53</td>\n",
       "      <td>39.0</td>\n",
       "      <td>NAUITBZFJKHWW</td>\n",
       "      <td>Ads</td>\n",
       "      <td>Safari</td>\n",
       "      <td>M</td>\n",
       "      <td>45.0</td>\n",
       "      <td>4.155831e+08</td>\n",
       "      <td>0.0</td>\n",
       "    </tr>\n",
       "    <tr>\n",
       "      <td>5</td>\n",
       "      <td>159135</td>\n",
       "      <td>2015-05-21 06:03:03</td>\n",
       "      <td>2015-07-09 08:05:14</td>\n",
       "      <td>42.0</td>\n",
       "      <td>ALEYXFXINSXLZ</td>\n",
       "      <td>Ads</td>\n",
       "      <td>Chrome</td>\n",
       "      <td>M</td>\n",
       "      <td>18.0</td>\n",
       "      <td>2.809315e+09</td>\n",
       "      <td>0.0</td>\n",
       "    </tr>\n",
       "    <tr>\n",
       "      <td>6</td>\n",
       "      <td>50116</td>\n",
       "      <td>2015-08-01 22:40:52</td>\n",
       "      <td>2015-08-27 03:37:57</td>\n",
       "      <td>11.0</td>\n",
       "      <td>IWKVZHJOCLPUR</td>\n",
       "      <td>Ads</td>\n",
       "      <td>Chrome</td>\n",
       "      <td>F</td>\n",
       "      <td>19.0</td>\n",
       "      <td>3.987484e+09</td>\n",
       "      <td>0.0</td>\n",
       "    </tr>\n",
       "    <tr>\n",
       "      <td>7</td>\n",
       "      <td>360585</td>\n",
       "      <td>2015-04-06 07:35:45</td>\n",
       "      <td>2015-05-25 17:21:14</td>\n",
       "      <td>27.0</td>\n",
       "      <td>HPUCUYLMJBYFW</td>\n",
       "      <td>Ads</td>\n",
       "      <td>Opera</td>\n",
       "      <td>M</td>\n",
       "      <td>34.0</td>\n",
       "      <td>1.692459e+09</td>\n",
       "      <td>0.0</td>\n",
       "    </tr>\n",
       "    <tr>\n",
       "      <td>8</td>\n",
       "      <td>159045</td>\n",
       "      <td>2015-04-21 23:38:34</td>\n",
       "      <td>2015-06-02 14:01:54</td>\n",
       "      <td>30.0</td>\n",
       "      <td>ILXYDOZIHOOHT</td>\n",
       "      <td>SEO</td>\n",
       "      <td>IE</td>\n",
       "      <td>F</td>\n",
       "      <td>43.0</td>\n",
       "      <td>3.719094e+09</td>\n",
       "      <td>0.0</td>\n",
       "    </tr>\n",
       "    <tr>\n",
       "      <td>9</td>\n",
       "      <td>182338</td>\n",
       "      <td>2015-01-25 17:49:49</td>\n",
       "      <td>2015-03-23 23:05:42</td>\n",
       "      <td>62.0</td>\n",
       "      <td>NRFFPPHZYFUVC</td>\n",
       "      <td>Ads</td>\n",
       "      <td>IE</td>\n",
       "      <td>M</td>\n",
       "      <td>31.0</td>\n",
       "      <td>3.416747e+08</td>\n",
       "      <td>0.0</td>\n",
       "    </tr>\n",
       "  </tbody>\n",
       "</table>\n",
       "</div>"
      ],
      "text/plain": [
       "   user_id          signup_time        purchase_time  purchase_value  \\\n",
       "0    22058  2015-02-24 22:55:49  2015-04-18 02:47:11            34.0   \n",
       "1   333320  2015-06-07 20:39:50  2015-06-08 01:38:54            16.0   \n",
       "2     1359  2015-01-01 18:52:44  2015-01-01 18:52:45            15.0   \n",
       "3   150084  2015-04-28 21:13:25  2015-05-04 13:54:50            44.0   \n",
       "4   221365  2015-07-21 07:09:52  2015-09-09 18:40:53            39.0   \n",
       "5   159135  2015-05-21 06:03:03  2015-07-09 08:05:14            42.0   \n",
       "6    50116  2015-08-01 22:40:52  2015-08-27 03:37:57            11.0   \n",
       "7   360585  2015-04-06 07:35:45  2015-05-25 17:21:14            27.0   \n",
       "8   159045  2015-04-21 23:38:34  2015-06-02 14:01:54            30.0   \n",
       "9   182338  2015-01-25 17:49:49  2015-03-23 23:05:42            62.0   \n",
       "\n",
       "       device_id source browser sex   age    ip_address  class  \n",
       "0  QVPSPJUOCKZAR    SEO  Chrome   M  39.0  7.327584e+08    0.0  \n",
       "1  EOGFQPIZPYXFZ    Ads  Chrome   F  53.0  3.503114e+08    0.0  \n",
       "2  YSSKYOSJHPPLJ    SEO   Opera   M  53.0  2.621474e+09    1.0  \n",
       "3  ATGTXKYKUDUQN    SEO  Safari   M  41.0  3.840542e+09    0.0  \n",
       "4  NAUITBZFJKHWW    Ads  Safari   M  45.0  4.155831e+08    0.0  \n",
       "5  ALEYXFXINSXLZ    Ads  Chrome   M  18.0  2.809315e+09    0.0  \n",
       "6  IWKVZHJOCLPUR    Ads  Chrome   F  19.0  3.987484e+09    0.0  \n",
       "7  HPUCUYLMJBYFW    Ads   Opera   M  34.0  1.692459e+09    0.0  \n",
       "8  ILXYDOZIHOOHT    SEO      IE   F  43.0  3.719094e+09    0.0  \n",
       "9  NRFFPPHZYFUVC    Ads      IE   M  31.0  3.416747e+08    0.0  "
      ]
     },
     "execution_count": 2,
     "metadata": {},
     "output_type": "execute_result"
    }
   ],
   "source": [
    "# Visualizando os primeiros registros. Se não informar o parâmetro, o padrão é os 5 primeiros\n",
    "dfbase.head(10)"
   ]
  },
  {
   "cell_type": "code",
   "execution_count": 3,
   "metadata": {
    "colab": {
     "base_uri": "https://localhost:8080/",
     "height": 194
    },
    "colab_type": "code",
    "id": "KanbHwsbW_vv",
    "outputId": "332bacaa-54ae-4491-f365-22f8aeebd22c"
   },
   "outputs": [
    {
     "data": {
      "text/html": [
       "<div>\n",
       "<style scoped>\n",
       "    .dataframe tbody tr th:only-of-type {\n",
       "        vertical-align: middle;\n",
       "    }\n",
       "\n",
       "    .dataframe tbody tr th {\n",
       "        vertical-align: top;\n",
       "    }\n",
       "\n",
       "    .dataframe thead th {\n",
       "        text-align: right;\n",
       "    }\n",
       "</style>\n",
       "<table border=\"1\" class=\"dataframe\">\n",
       "  <thead>\n",
       "    <tr style=\"text-align: right;\">\n",
       "      <th></th>\n",
       "      <th>user_id</th>\n",
       "      <th>signup_time</th>\n",
       "      <th>purchase_time</th>\n",
       "      <th>purchase_value</th>\n",
       "      <th>device_id</th>\n",
       "      <th>source</th>\n",
       "      <th>browser</th>\n",
       "      <th>sex</th>\n",
       "      <th>age</th>\n",
       "      <th>ip_address</th>\n",
       "      <th>class</th>\n",
       "    </tr>\n",
       "  </thead>\n",
       "  <tbody>\n",
       "    <tr>\n",
       "      <td>151109</td>\n",
       "      <td>274471</td>\n",
       "      <td>2015-05-15 17:43:29</td>\n",
       "      <td>2015-05-26 12:24:39</td>\n",
       "      <td>35.0</td>\n",
       "      <td>LYSFABUCPCGBA</td>\n",
       "      <td>SEO</td>\n",
       "      <td>Safari</td>\n",
       "      <td>M</td>\n",
       "      <td>32.0</td>\n",
       "      <td>2.439047e+09</td>\n",
       "      <td>0.0</td>\n",
       "    </tr>\n",
       "    <tr>\n",
       "      <td>151110</td>\n",
       "      <td>368416</td>\n",
       "      <td>2015-03-03 23:07:31</td>\n",
       "      <td>2015-05-20 07:07:47</td>\n",
       "      <td>40.0</td>\n",
       "      <td>MEQHCSJUBRBFE</td>\n",
       "      <td>SEO</td>\n",
       "      <td>IE</td>\n",
       "      <td>F</td>\n",
       "      <td>26.0</td>\n",
       "      <td>2.748471e+09</td>\n",
       "      <td>0.0</td>\n",
       "    </tr>\n",
       "    <tr>\n",
       "      <td>151111</td>\n",
       "      <td>9999000</td>\n",
       "      <td>2015-01-01 07:02:20</td>\n",
       "      <td>NaN</td>\n",
       "      <td>NaN</td>\n",
       "      <td>ZINIADFCLHYPG</td>\n",
       "      <td>Direct</td>\n",
       "      <td>IE</td>\n",
       "      <td>M</td>\n",
       "      <td>NaN</td>\n",
       "      <td>4.103825e+09</td>\n",
       "      <td>NaN</td>\n",
       "    </tr>\n",
       "    <tr>\n",
       "      <td>151112</td>\n",
       "      <td>207709</td>\n",
       "      <td>2015-07-09 20:06:07</td>\n",
       "      <td>2015-09-07 09:34:46</td>\n",
       "      <td>46.0</td>\n",
       "      <td>CMCXFGRHYSTVJ</td>\n",
       "      <td>SEO</td>\n",
       "      <td>Chrome</td>\n",
       "      <td>M</td>\n",
       "      <td>37.0</td>\n",
       "      <td>3.601175e+09</td>\n",
       "      <td>0.0</td>\n",
       "    </tr>\n",
       "    <tr>\n",
       "      <td>151113</td>\n",
       "      <td>138208</td>\n",
       "      <td>2015-06-10 07:02:20</td>\n",
       "      <td>2015-07-21 02:03:53</td>\n",
       "      <td>20.0</td>\n",
       "      <td>ZINIADFCLHYPG</td>\n",
       "      <td>Direct</td>\n",
       "      <td>IE</td>\n",
       "      <td>M</td>\n",
       "      <td>38.0</td>\n",
       "      <td>4.103825e+09</td>\n",
       "      <td>0.0</td>\n",
       "    </tr>\n",
       "  </tbody>\n",
       "</table>\n",
       "</div>"
      ],
      "text/plain": [
       "        user_id          signup_time        purchase_time  purchase_value  \\\n",
       "151109   274471  2015-05-15 17:43:29  2015-05-26 12:24:39            35.0   \n",
       "151110   368416  2015-03-03 23:07:31  2015-05-20 07:07:47            40.0   \n",
       "151111  9999000  2015-01-01 07:02:20                  NaN             NaN   \n",
       "151112   207709  2015-07-09 20:06:07  2015-09-07 09:34:46            46.0   \n",
       "151113   138208  2015-06-10 07:02:20  2015-07-21 02:03:53            20.0   \n",
       "\n",
       "            device_id  source browser sex   age    ip_address  class  \n",
       "151109  LYSFABUCPCGBA     SEO  Safari   M  32.0  2.439047e+09    0.0  \n",
       "151110  MEQHCSJUBRBFE     SEO      IE   F  26.0  2.748471e+09    0.0  \n",
       "151111  ZINIADFCLHYPG  Direct      IE   M   NaN  4.103825e+09    NaN  \n",
       "151112  CMCXFGRHYSTVJ     SEO  Chrome   M  37.0  3.601175e+09    0.0  \n",
       "151113  ZINIADFCLHYPG  Direct      IE   M  38.0  4.103825e+09    0.0  "
      ]
     },
     "execution_count": 3,
     "metadata": {},
     "output_type": "execute_result"
    }
   ],
   "source": [
    "# Você pode também visualizar os últimos registros \n",
    "dfbase.tail()"
   ]
  },
  {
   "cell_type": "code",
   "execution_count": 4,
   "metadata": {
    "colab": {
     "base_uri": "https://localhost:8080/",
     "height": 230
    },
    "colab_type": "code",
    "id": "R-xebGZT7Ejk",
    "outputId": "a8d6da73-057d-4431-94e2-f01282ee9057"
   },
   "outputs": [
    {
     "data": {
      "text/plain": [
       "user_id             int64\n",
       "signup_time        object\n",
       "purchase_time      object\n",
       "purchase_value    float64\n",
       "device_id          object\n",
       "source             object\n",
       "browser            object\n",
       "sex                object\n",
       "age               float64\n",
       "ip_address        float64\n",
       "class             float64\n",
       "dtype: object"
      ]
     },
     "execution_count": 4,
     "metadata": {},
     "output_type": "execute_result"
    }
   ],
   "source": [
    "# Visualizando as colunas e os tipos\n",
    "dfbase.dtypes\n",
    "\n",
    "# DICA: os atributos carregados como string(alfanumérico) estarão como object.\n",
    "# Perceba então que os atributos de data de cadastro (signup_time) e de compra (purchase_time) estão como texto e não como data."
   ]
  },
  {
   "cell_type": "code",
   "execution_count": 5,
   "metadata": {
    "colab": {
     "base_uri": "https://localhost:8080/",
     "height": 282
    },
    "colab_type": "code",
    "id": "DVDX5I0K7gFM",
    "outputId": "e0b53880-cc13-4520-cefc-90646bcfa463"
   },
   "outputs": [
    {
     "data": {
      "text/html": [
       "<div>\n",
       "<style scoped>\n",
       "    .dataframe tbody tr th:only-of-type {\n",
       "        vertical-align: middle;\n",
       "    }\n",
       "\n",
       "    .dataframe tbody tr th {\n",
       "        vertical-align: top;\n",
       "    }\n",
       "\n",
       "    .dataframe thead th {\n",
       "        text-align: right;\n",
       "    }\n",
       "</style>\n",
       "<table border=\"1\" class=\"dataframe\">\n",
       "  <thead>\n",
       "    <tr style=\"text-align: right;\">\n",
       "      <th></th>\n",
       "      <th>user_id</th>\n",
       "      <th>purchase_value</th>\n",
       "      <th>age</th>\n",
       "      <th>ip_address</th>\n",
       "      <th>class</th>\n",
       "    </tr>\n",
       "  </thead>\n",
       "  <tbody>\n",
       "    <tr>\n",
       "      <td>count</td>\n",
       "      <td>1.511140e+05</td>\n",
       "      <td>151112.000000</td>\n",
       "      <td>151112.000000</td>\n",
       "      <td>1.511130e+05</td>\n",
       "      <td>151112.000000</td>\n",
       "    </tr>\n",
       "    <tr>\n",
       "      <td>mean</td>\n",
       "      <td>2.003007e+05</td>\n",
       "      <td>36.935372</td>\n",
       "      <td>33.140704</td>\n",
       "      <td>2.152158e+09</td>\n",
       "      <td>0.093646</td>\n",
       "    </tr>\n",
       "    <tr>\n",
       "      <td>std</td>\n",
       "      <td>1.207505e+05</td>\n",
       "      <td>18.322762</td>\n",
       "      <td>8.617733</td>\n",
       "      <td>1.248503e+09</td>\n",
       "      <td>0.291336</td>\n",
       "    </tr>\n",
       "    <tr>\n",
       "      <td>min</td>\n",
       "      <td>2.000000e+00</td>\n",
       "      <td>9.000000</td>\n",
       "      <td>18.000000</td>\n",
       "      <td>5.209350e+04</td>\n",
       "      <td>0.000000</td>\n",
       "    </tr>\n",
       "    <tr>\n",
       "      <td>25%</td>\n",
       "      <td>1.006435e+05</td>\n",
       "      <td>22.000000</td>\n",
       "      <td>27.000000</td>\n",
       "      <td>1.085939e+09</td>\n",
       "      <td>0.000000</td>\n",
       "    </tr>\n",
       "    <tr>\n",
       "      <td>50%</td>\n",
       "      <td>1.999625e+05</td>\n",
       "      <td>35.000000</td>\n",
       "      <td>33.000000</td>\n",
       "      <td>2.154785e+09</td>\n",
       "      <td>0.000000</td>\n",
       "    </tr>\n",
       "    <tr>\n",
       "      <td>75%</td>\n",
       "      <td>3.000615e+05</td>\n",
       "      <td>49.000000</td>\n",
       "      <td>39.000000</td>\n",
       "      <td>3.243264e+09</td>\n",
       "      <td>0.000000</td>\n",
       "    </tr>\n",
       "    <tr>\n",
       "      <td>max</td>\n",
       "      <td>9.999000e+06</td>\n",
       "      <td>154.000000</td>\n",
       "      <td>76.000000</td>\n",
       "      <td>4.294850e+09</td>\n",
       "      <td>1.000000</td>\n",
       "    </tr>\n",
       "  </tbody>\n",
       "</table>\n",
       "</div>"
      ],
      "text/plain": [
       "            user_id  purchase_value            age    ip_address  \\\n",
       "count  1.511140e+05   151112.000000  151112.000000  1.511130e+05   \n",
       "mean   2.003007e+05       36.935372      33.140704  2.152158e+09   \n",
       "std    1.207505e+05       18.322762       8.617733  1.248503e+09   \n",
       "min    2.000000e+00        9.000000      18.000000  5.209350e+04   \n",
       "25%    1.006435e+05       22.000000      27.000000  1.085939e+09   \n",
       "50%    1.999625e+05       35.000000      33.000000  2.154785e+09   \n",
       "75%    3.000615e+05       49.000000      39.000000  3.243264e+09   \n",
       "max    9.999000e+06      154.000000      76.000000  4.294850e+09   \n",
       "\n",
       "               class  \n",
       "count  151112.000000  \n",
       "mean        0.093646  \n",
       "std         0.291336  \n",
       "min         0.000000  \n",
       "25%         0.000000  \n",
       "50%         0.000000  \n",
       "75%         0.000000  \n",
       "max         1.000000  "
      ]
     },
     "execution_count": 5,
     "metadata": {},
     "output_type": "execute_result"
    }
   ],
   "source": [
    "# Exibindo valores estatísticos básicos dos campos numéricos (os campso que não são números são automaticamente omitidos)\n",
    "#=> DICA: Analise a medida \"min\" para verificar rapidamente se há atributos com negativos\n",
    "\n",
    "dfbase.describe()"
   ]
  },
  {
   "cell_type": "code",
   "execution_count": 6,
   "metadata": {
    "colab": {
     "base_uri": "https://localhost:8080/",
     "height": 194
    },
    "colab_type": "code",
    "id": "bj59NJ7-R7Lv",
    "outputId": "2fa153be-1b7b-479e-f71d-eebe7ef8295c"
   },
   "outputs": [
    {
     "data": {
      "text/html": [
       "<div>\n",
       "<style scoped>\n",
       "    .dataframe tbody tr th:only-of-type {\n",
       "        vertical-align: middle;\n",
       "    }\n",
       "\n",
       "    .dataframe tbody tr th {\n",
       "        vertical-align: top;\n",
       "    }\n",
       "\n",
       "    .dataframe thead th {\n",
       "        text-align: right;\n",
       "    }\n",
       "</style>\n",
       "<table border=\"1\" class=\"dataframe\">\n",
       "  <thead>\n",
       "    <tr style=\"text-align: right;\">\n",
       "      <th></th>\n",
       "      <th>count</th>\n",
       "      <th>mean</th>\n",
       "      <th>std</th>\n",
       "      <th>min</th>\n",
       "      <th>25%</th>\n",
       "      <th>50%</th>\n",
       "      <th>75%</th>\n",
       "      <th>max</th>\n",
       "    </tr>\n",
       "  </thead>\n",
       "  <tbody>\n",
       "    <tr>\n",
       "      <td>user_id</td>\n",
       "      <td>151114.0</td>\n",
       "      <td>2.003007e+05</td>\n",
       "      <td>1.207505e+05</td>\n",
       "      <td>2.000000</td>\n",
       "      <td>1.006435e+05</td>\n",
       "      <td>1.999625e+05</td>\n",
       "      <td>3.000615e+05</td>\n",
       "      <td>9.999000e+06</td>\n",
       "    </tr>\n",
       "    <tr>\n",
       "      <td>purchase_value</td>\n",
       "      <td>151112.0</td>\n",
       "      <td>3.693537e+01</td>\n",
       "      <td>1.832276e+01</td>\n",
       "      <td>9.000000</td>\n",
       "      <td>2.200000e+01</td>\n",
       "      <td>3.500000e+01</td>\n",
       "      <td>4.900000e+01</td>\n",
       "      <td>1.540000e+02</td>\n",
       "    </tr>\n",
       "    <tr>\n",
       "      <td>age</td>\n",
       "      <td>151112.0</td>\n",
       "      <td>3.314070e+01</td>\n",
       "      <td>8.617733e+00</td>\n",
       "      <td>18.000000</td>\n",
       "      <td>2.700000e+01</td>\n",
       "      <td>3.300000e+01</td>\n",
       "      <td>3.900000e+01</td>\n",
       "      <td>7.600000e+01</td>\n",
       "    </tr>\n",
       "    <tr>\n",
       "      <td>ip_address</td>\n",
       "      <td>151113.0</td>\n",
       "      <td>2.152158e+09</td>\n",
       "      <td>1.248503e+09</td>\n",
       "      <td>52093.496895</td>\n",
       "      <td>1.085939e+09</td>\n",
       "      <td>2.154785e+09</td>\n",
       "      <td>3.243264e+09</td>\n",
       "      <td>4.294850e+09</td>\n",
       "    </tr>\n",
       "    <tr>\n",
       "      <td>class</td>\n",
       "      <td>151112.0</td>\n",
       "      <td>9.364577e-02</td>\n",
       "      <td>2.913362e-01</td>\n",
       "      <td>0.000000</td>\n",
       "      <td>0.000000e+00</td>\n",
       "      <td>0.000000e+00</td>\n",
       "      <td>0.000000e+00</td>\n",
       "      <td>1.000000e+00</td>\n",
       "    </tr>\n",
       "  </tbody>\n",
       "</table>\n",
       "</div>"
      ],
      "text/plain": [
       "                   count          mean           std           min  \\\n",
       "user_id         151114.0  2.003007e+05  1.207505e+05      2.000000   \n",
       "purchase_value  151112.0  3.693537e+01  1.832276e+01      9.000000   \n",
       "age             151112.0  3.314070e+01  8.617733e+00     18.000000   \n",
       "ip_address      151113.0  2.152158e+09  1.248503e+09  52093.496895   \n",
       "class           151112.0  9.364577e-02  2.913362e-01      0.000000   \n",
       "\n",
       "                         25%           50%           75%           max  \n",
       "user_id         1.006435e+05  1.999625e+05  3.000615e+05  9.999000e+06  \n",
       "purchase_value  2.200000e+01  3.500000e+01  4.900000e+01  1.540000e+02  \n",
       "age             2.700000e+01  3.300000e+01  3.900000e+01  7.600000e+01  \n",
       "ip_address      1.085939e+09  2.154785e+09  3.243264e+09  4.294850e+09  \n",
       "class           0.000000e+00  0.000000e+00  0.000000e+00  1.000000e+00  "
      ]
     },
     "execution_count": 6,
     "metadata": {},
     "output_type": "execute_result"
    }
   ],
   "source": [
    "#=> DICA: Caso haja muitos atributos, parte deles podem não ser exibidos. \n",
    "# Então utilize o campo de Transpor (trocar linhas e colunas)\n",
    "dfbase.describe().T"
   ]
  },
  {
   "cell_type": "markdown",
   "metadata": {
    "colab_type": "text",
    "id": "MDY92iz6TSi1"
   },
   "source": [
    "## VALORES FALTANTES (MISSING)"
   ]
  },
  {
   "cell_type": "code",
   "execution_count": 7,
   "metadata": {
    "colab": {
     "base_uri": "https://localhost:8080/",
     "height": 230
    },
    "colab_type": "code",
    "id": "W14d820t7wYM",
    "outputId": "45a0eed1-7335-40ec-b575-2adc019ac710"
   },
   "outputs": [
    {
     "data": {
      "text/plain": [
       "user_id           0\n",
       "signup_time       0\n",
       "purchase_time     2\n",
       "purchase_value    2\n",
       "device_id         1\n",
       "source            1\n",
       "browser           0\n",
       "sex               1\n",
       "age               2\n",
       "ip_address        1\n",
       "class             2\n",
       "dtype: int64"
      ]
     },
     "execution_count": 7,
     "metadata": {},
     "output_type": "execute_result"
    }
   ],
   "source": [
    "# Verificando se há atributos com dados faltantes (Missing ou NA). Aqueles que tiverem estão com qtde maior que zero\n",
    "dfbase.isna().sum()"
   ]
  },
  {
   "cell_type": "code",
   "execution_count": 8,
   "metadata": {
    "colab": {
     "base_uri": "https://localhost:8080/",
     "height": 106
    },
    "colab_type": "code",
    "id": "m3ZD0Bw4TcJD",
    "outputId": "4159b53f-b165-43c0-ec1d-71d077fbb266"
   },
   "outputs": [
    {
     "data": {
      "text/html": [
       "<div>\n",
       "<style scoped>\n",
       "    .dataframe tbody tr th:only-of-type {\n",
       "        vertical-align: middle;\n",
       "    }\n",
       "\n",
       "    .dataframe tbody tr th {\n",
       "        vertical-align: top;\n",
       "    }\n",
       "\n",
       "    .dataframe thead th {\n",
       "        text-align: right;\n",
       "    }\n",
       "</style>\n",
       "<table border=\"1\" class=\"dataframe\">\n",
       "  <thead>\n",
       "    <tr style=\"text-align: right;\">\n",
       "      <th></th>\n",
       "      <th>user_id</th>\n",
       "      <th>signup_time</th>\n",
       "      <th>purchase_time</th>\n",
       "      <th>purchase_value</th>\n",
       "      <th>device_id</th>\n",
       "      <th>source</th>\n",
       "      <th>browser</th>\n",
       "      <th>sex</th>\n",
       "      <th>age</th>\n",
       "      <th>ip_address</th>\n",
       "      <th>class</th>\n",
       "    </tr>\n",
       "  </thead>\n",
       "  <tbody>\n",
       "    <tr>\n",
       "      <td>151077</td>\n",
       "      <td>9999000</td>\n",
       "      <td>2015-02-01 00:00:00</td>\n",
       "      <td>NaN</td>\n",
       "      <td>NaN</td>\n",
       "      <td>NaN</td>\n",
       "      <td>NaN</td>\n",
       "      <td>Firefox</td>\n",
       "      <td>NaN</td>\n",
       "      <td>NaN</td>\n",
       "      <td>NaN</td>\n",
       "      <td>NaN</td>\n",
       "    </tr>\n",
       "    <tr>\n",
       "      <td>151111</td>\n",
       "      <td>9999000</td>\n",
       "      <td>2015-01-01 07:02:20</td>\n",
       "      <td>NaN</td>\n",
       "      <td>NaN</td>\n",
       "      <td>ZINIADFCLHYPG</td>\n",
       "      <td>Direct</td>\n",
       "      <td>IE</td>\n",
       "      <td>M</td>\n",
       "      <td>NaN</td>\n",
       "      <td>4.103825e+09</td>\n",
       "      <td>NaN</td>\n",
       "    </tr>\n",
       "  </tbody>\n",
       "</table>\n",
       "</div>"
      ],
      "text/plain": [
       "        user_id          signup_time purchase_time  purchase_value  \\\n",
       "151077  9999000  2015-02-01 00:00:00           NaN             NaN   \n",
       "151111  9999000  2015-01-01 07:02:20           NaN             NaN   \n",
       "\n",
       "            device_id  source  browser  sex  age    ip_address  class  \n",
       "151077            NaN     NaN  Firefox  NaN  NaN           NaN    NaN  \n",
       "151111  ZINIADFCLHYPG  Direct       IE    M  NaN  4.103825e+09    NaN  "
      ]
     },
     "execution_count": 8,
     "metadata": {},
     "output_type": "execute_result"
    }
   ],
   "source": [
    "# Visualizando as linhas que tenham o atributo específico com valores faltantes (NA)\n",
    "dfbase[dfbase['purchase_time'].isna()]"
   ]
  },
  {
   "cell_type": "markdown",
   "metadata": {
    "colab_type": "text",
    "id": "GzVbPo8zc8r3"
   },
   "source": [
    "Há vários tipos de tratamentos que podem ser efetuados para valores faltantes. Entre eles são:\n",
    "* 1- Excluir a linha toda.\n",
    "* 2- Manter a linha mas excluir a coluna de todas as linhas.\n",
    "* 3- Substituir o valor faltante por um outro (como por zero, valor da média, etc).\n",
    "* Há outros tratamentos mas listei apenas alguns. Os detalhes de todas opções vale um script específico para esse tema.\n",
    "\n",
    "Para decidir qual utilizar, deve ser feito realmente uma análise detalhada.\n",
    "- A primeira opção é a mais fácil mas por outro lado, pode perder informações que são necessárias.\n",
    "- Similar a segunda opção, pois pode perder informações importantes das outras linhas que possuem dados preenchidos na coluna excluída.\n",
    "- A terceira opção é uma forma mas dependendo pode distorcer a informação na análise e aprendizado final.\n",
    "\n",
    "\n",
    "Irei utilizar para esse caso a primeira opção, exclusão das linhas com valores faltantes.\n",
    "O motivo é que nessas linhas os valores não preenchidos são de atributos (colunas) são importantes, como a data da compra, valor da compra e nem o atributo class que será usado como target para treino e teste. Ou seja, sem essas informações preenchidas, essas linhas não tem valor dentro da análise e aprendizado do modelo.\n"
   ]
  },
  {
   "cell_type": "code",
   "execution_count": 9,
   "metadata": {
    "colab": {
     "base_uri": "https://localhost:8080/",
     "height": 230
    },
    "colab_type": "code",
    "id": "b6hdbPXzcwS5",
    "outputId": "41624fe0-046c-43e8-e27c-15f5d2206150"
   },
   "outputs": [
    {
     "data": {
      "text/plain": [
       "user_id           0\n",
       "signup_time       0\n",
       "purchase_time     0\n",
       "purchase_value    0\n",
       "device_id         0\n",
       "source            0\n",
       "browser           0\n",
       "sex               0\n",
       "age               0\n",
       "ip_address        0\n",
       "class             0\n",
       "dtype: int64"
      ]
     },
     "execution_count": 9,
     "metadata": {},
     "output_type": "execute_result"
    }
   ],
   "source": [
    "# Excluindo (apenas) as linhas cuja coluna purchase_time esteja linha. \n",
    "dfbase = dfbase.dropna(subset=['purchase_time'])\n",
    "dfbase.isna().sum()"
   ]
  },
  {
   "cell_type": "code",
   "execution_count": 10,
   "metadata": {
    "colab": {
     "base_uri": "https://localhost:8080/",
     "height": 35
    },
    "colab_type": "code",
    "id": "jhS6A2kZhu3t",
    "outputId": "65fea083-a5b5-4a5d-8527-9645a60ac549"
   },
   "outputs": [
    {
     "name": "stdout",
     "output_type": "stream",
     "text": [
      "(151112, 11)\n"
     ]
    }
   ],
   "source": [
    "# Listando a quantidade de linhas. Veja que diminiu a qtde de linhas.\n",
    "print(dfbase.shape)"
   ]
  },
  {
   "cell_type": "markdown",
   "metadata": {
    "colab_type": "text",
    "id": "pwQ8Hu6eAw0P"
   },
   "source": [
    "# 3 . TRANSFORMAÇÃO\n",
    "\n",
    "Pode ocorrer que somente os atributos carregados não sejam suficientes ou na sua forma original não seja utilizável.\n",
    "\n",
    "Nessas situações pode ser criado novos atributos a partir de transformações dos atuais.\n",
    "\n",
    "Nessa versão 1, não vamos executar isso para justamente compararmos os resultando entre as versões com e sem essa transformação."
   ]
  },
  {
   "cell_type": "markdown",
   "metadata": {
    "colab_type": "text",
    "id": "w7Zf6YrnBszh"
   },
   "source": [
    "# 4 . FE - FEATURE ENGINEERNING / FEATURE SELECTION\n",
    "\n",
    "A etapa de Seleção dos Atributos (Feature Selection) é uma das mais importantes para a construção de um modelo preditivo.\n",
    "\n",
    "A simples escolha ou não de determinados atributos impacta diretamente no resultado.\n",
    "Para isso, há várias técnicas a serem utilizadas.\n",
    "\n",
    "Porém, nessa versão básica, será apenas escolhido manualmente os atributos.\n",
    "Na próxima versão mais avançada, serão apresentados algumas das técnicas e efetuados as comparações os resultados."
   ]
  },
  {
   "cell_type": "markdown",
   "metadata": {
    "colab_type": "text",
    "id": "wJAY1fpAogWE"
   },
   "source": [
    "Explicação da não escolha dos atributos:\n",
    "* user_id\n",
    "  * é um campo de identificação, único e totalmente específico. Não produz relevância para fazer predições de novos clientes. Ao contrário, seu uso pode gerar distorções no modelo gerado.\n",
    "* device_id\n",
    "  * idem acima.\n",
    "* id_address\n",
    "  * idem acima se usado o código inteiro. Porém, para um processo de análise mais avançado, poderia ser utilizado changes do IP para determinar regiões que são mais sucessíveis a fraudes.\n",
    "* signup_time\n",
    "  * É uma data específica incluindo horas-minutos-segundos. Para essa versão 1 não iremos utilizar esse campo.\n",
    "* purchase_time\n",
    "  * Idem acima.\n",
    "\n",
    "Sobre os atributos que foram selecionados, isso não significa que necessariamente todos são relevantes para a montagem do modelo. Por exemplo, o tipo do navegador (browser) é relevante para detectar fraudes?\n",
    "Tudo isso será identificados nas técnicas de Feature Selection, onde será feitos algumas simulações para verificar quais conjuntos de atributos trazem melhores resultados."
   ]
  },
  {
   "cell_type": "markdown",
   "metadata": {
    "colab_type": "text",
    "id": "lE1mhNZMAkau"
   },
   "source": [
    "# 5 . SPLITING X e Y"
   ]
  },
  {
   "cell_type": "markdown",
   "metadata": {},
   "source": [
    "### Montando a base dos atributos previsores (X) e a base do alvo (Y)"
   ]
  },
  {
   "cell_type": "code",
   "execution_count": 11,
   "metadata": {
    "colab": {},
    "colab_type": "code",
    "id": "TctZuTys80DA"
   },
   "outputs": [],
   "source": [
    "# Criando as bases X e Y\n",
    "X_previsores = dfbase.loc[:, ['purchase_value' ,'source', 'browser', 'sex', 'age']].values\n",
    "Y_target = dfbase.loc[:, 'class'].values"
   ]
  },
  {
   "cell_type": "markdown",
   "metadata": {
    "colab_type": "text",
    "id": "p8iAgH5wtePf"
   },
   "source": [
    "## Label Enconder\n",
    "\n",
    "Alguns algoritmos requerem que os dados estejam preenchidos com números e não com descrições alfanuméricos (texto).\n",
    "Nesse caso, aplica-se uma técnica para gerar códigos numéricos para cada atributo."
   ]
  },
  {
   "cell_type": "code",
   "execution_count": 12,
   "metadata": {
    "colab": {},
    "colab_type": "code",
    "id": "T-a8yhsoIuCw"
   },
   "outputs": [],
   "source": [
    "from sklearn.preprocessing import LabelEncoder\n",
    "\n",
    "labelencoder = LabelEncoder()\n",
    "\n",
    "X_previsores[:, 1] = labelencoder.fit_transform(X_previsores[:, 1])\n",
    "X_previsores[:, 2] = labelencoder.fit_transform(X_previsores[:, 2])\n",
    "X_previsores[:, 3] = labelencoder.fit_transform(X_previsores[:, 3]) \n",
    " "
   ]
  },
  {
   "cell_type": "code",
   "execution_count": 13,
   "metadata": {
    "colab": {},
    "colab_type": "code",
    "id": "wp6VpPsG9-iG"
   },
   "outputs": [],
   "source": [
    "# Gerando as bases de Treino e de Teste\n",
    "from sklearn.model_selection import train_test_split\n",
    "\n",
    "X_treino, X_teste, Y_treino, Y_teste = train_test_split(X_previsores, Y_target, test_size=0.33, random_state=0 ) "
   ]
  },
  {
   "cell_type": "markdown",
   "metadata": {
    "colab_type": "text",
    "id": "TjMJmWBpBCAJ"
   },
   "source": [
    "# 6 . TREINANDO (FITTING) MODELOS DOS ALGORITMOS\n",
    "\n",
    "Iremos gerar 5 modelos do tipo Classificação e comparar seus resultados:\n",
    "* Logistic Regression\n",
    "* Naive Bayes\n",
    "* Decision Tree\n",
    "* Random Forest\n",
    "* KNN\n",
    "\n",
    "Nessa versão 1, por ser básica, não iremos gerar os modelos com SVM e Neural Network (Rede Neural). Isso será utilizado na versão 2.\n",
    "\n",
    "Obs: é possível otimizar a execução de mais de um modelo em um único loop.\n",
    "Mas para essa primeira versão, deixei uma célula para cada tipo de modelo para ficar didaticamente mais fácil.\n",
    "\n",
    "\n",
    "É possível informar para cada modelo, valores para alguns parâmetros.\n",
    "Para essa versão 1, não informei e deixei que as funções utilizem seus  valores default que não necessariamente são os melhores.\n",
    "O processo de escolher os melhores parâmetros, chamado de Tunning, será aplicado na versão 2. "
   ]
  },
  {
   "cell_type": "markdown",
   "metadata": {
    "colab_type": "text",
    "id": "PRNFxCnIiIZ-"
   },
   "source": [
    "## LOGISTIC REGRESSION"
   ]
  },
  {
   "cell_type": "code",
   "execution_count": 14,
   "metadata": {
    "colab": {},
    "colab_type": "code",
    "id": "8KNdPjnQ8ACm"
   },
   "outputs": [],
   "source": [
    "# Montando o modelo\n",
    "from sklearn.linear_model import LogisticRegression\n",
    "\n",
    "modelo_LR = LogisticRegression(random_state=0)\n",
    "\n",
    "# Treinando o modelo\n",
    "modelo_LR.fit(X_treino, Y_treino)\n",
    "\n",
    "# Predição\n",
    "predicao_LR = modelo_LR.predict(X_teste)"
   ]
  },
  {
   "cell_type": "markdown",
   "metadata": {
    "colab_type": "text",
    "id": "wMszt9rgxen3"
   },
   "source": [
    "## NAIVE BAYES"
   ]
  },
  {
   "cell_type": "code",
   "execution_count": 15,
   "metadata": {
    "colab": {},
    "colab_type": "code",
    "id": "qimeOlLyxhAe"
   },
   "outputs": [],
   "source": [
    "# Montando o modelo\n",
    "from sklearn.naive_bayes import GaussianNB\n",
    "\n",
    "modelo_NB = GaussianNB()\n",
    "\n",
    "# Treinando o modelo\n",
    "modelo_NB.fit(X_treino, Y_treino)\n",
    "\n",
    "# Predição\n",
    "predicao_NB = modelo_NB.predict(X_teste)"
   ]
  },
  {
   "cell_type": "markdown",
   "metadata": {
    "colab_type": "text",
    "id": "mLzMJwMVih0N"
   },
   "source": [
    "## DECISION TREE"
   ]
  },
  {
   "cell_type": "code",
   "execution_count": 16,
   "metadata": {
    "colab": {},
    "colab_type": "code",
    "id": "oZa4Hl4dibHD"
   },
   "outputs": [],
   "source": [
    "# Montando o modelo\n",
    "from sklearn.tree import DecisionTreeClassifier\n",
    "\n",
    "modelo_DT = DecisionTreeClassifier(random_state=0)\n",
    "\n",
    "# Treinando o modelo\n",
    "modelo_DT.fit(X_treino, Y_treino)\n",
    "\n",
    "# Predição\n",
    "predicao_DT = modelo_DT.predict(X_teste)"
   ]
  },
  {
   "cell_type": "markdown",
   "metadata": {
    "colab_type": "text",
    "id": "RUGvzOo3w7_a"
   },
   "source": [
    "## RANDOM FOREST"
   ]
  },
  {
   "cell_type": "code",
   "execution_count": 17,
   "metadata": {
    "colab": {},
    "colab_type": "code",
    "id": "r4TwJyEQnKf8"
   },
   "outputs": [],
   "source": [
    "# Montando o modelo\n",
    "from sklearn.ensemble import RandomForestClassifier\n",
    "\n",
    "modelo_RF = RandomForestClassifier(random_state=0)\n",
    "\n",
    "# Treinando o modelo\n",
    "modelo_RF.fit(X_treino, Y_treino)\n",
    "\n",
    "# Predição\n",
    "predicao_RF = modelo_RF.predict(X_teste)"
   ]
  },
  {
   "cell_type": "markdown",
   "metadata": {
    "colab_type": "text",
    "id": "JDTX7J1gxA7m"
   },
   "source": [
    "## KNN"
   ]
  },
  {
   "cell_type": "code",
   "execution_count": 18,
   "metadata": {
    "colab": {},
    "colab_type": "code",
    "id": "8VTsMhfHnfYE"
   },
   "outputs": [],
   "source": [
    "# Montando o modelo\n",
    "from sklearn.neighbors import KNeighborsClassifier\n",
    "\n",
    "modelo_KNN = KNeighborsClassifier()\n",
    "\n",
    "# Treinando o modelo\n",
    "modelo_KNN.fit(X_treino, Y_treino)\n",
    "\n",
    "# Predição\n",
    "predicao_KNN = modelo_KNN.predict(X_teste)"
   ]
  },
  {
   "cell_type": "markdown",
   "metadata": {
    "colab_type": "text",
    "id": "-33DWD3Ii7uj"
   },
   "source": [
    "# 7 . VALIDAÇÃO"
   ]
  },
  {
   "cell_type": "markdown",
   "metadata": {},
   "source": [
    "## Calculando a Acurácia\n",
    "\n",
    "A Acurácia (o acerto) da predição é feita comparando os valores previsto com os valores de teste e assim determinando seus acertos, utilizando assim uma função Accuracy Score."
   ]
  },
  {
   "cell_type": "code",
   "execution_count": 19,
   "metadata": {},
   "outputs": [
    {
     "data": {
      "text/html": [
       "<div>\n",
       "<style scoped>\n",
       "    .dataframe tbody tr th:only-of-type {\n",
       "        vertical-align: middle;\n",
       "    }\n",
       "\n",
       "    .dataframe tbody tr th {\n",
       "        vertical-align: top;\n",
       "    }\n",
       "\n",
       "    .dataframe thead th {\n",
       "        text-align: right;\n",
       "    }\n",
       "</style>\n",
       "<table border=\"1\" class=\"dataframe\">\n",
       "  <thead>\n",
       "    <tr style=\"text-align: right;\">\n",
       "      <th></th>\n",
       "      <th>Modelo</th>\n",
       "      <th>Acurácia</th>\n",
       "    </tr>\n",
       "  </thead>\n",
       "  <tbody>\n",
       "    <tr>\n",
       "      <td>0</td>\n",
       "      <td>Logistic Regression</td>\n",
       "      <td>90.84</td>\n",
       "    </tr>\n",
       "    <tr>\n",
       "      <td>2</td>\n",
       "      <td>Naives Bayes</td>\n",
       "      <td>90.84</td>\n",
       "    </tr>\n",
       "    <tr>\n",
       "      <td>3</td>\n",
       "      <td>Decision Tree</td>\n",
       "      <td>91.17</td>\n",
       "    </tr>\n",
       "    <tr>\n",
       "      <td>4</td>\n",
       "      <td>Random Forest</td>\n",
       "      <td>91.75</td>\n",
       "    </tr>\n",
       "    <tr>\n",
       "      <td>1</td>\n",
       "      <td>KNN</td>\n",
       "      <td>92.20</td>\n",
       "    </tr>\n",
       "  </tbody>\n",
       "</table>\n",
       "</div>"
      ],
      "text/plain": [
       "                Modelo  Acurácia\n",
       "0  Logistic Regression     90.84\n",
       "2         Naives Bayes     90.84\n",
       "3        Decision Tree     91.17\n",
       "4        Random Forest     91.75\n",
       "1                  KNN     92.20"
      ]
     },
     "execution_count": 19,
     "metadata": {},
     "output_type": "execute_result"
    }
   ],
   "source": [
    "from sklearn.metrics import accuracy_score \n",
    "from pandas import DataFrame\n",
    "\n",
    "# Cálcula a acurácia de cada modelo\n",
    "acuracia_LR = accuracy_score(Y_teste, predicao_LR)\n",
    "acuracia_NB = accuracy_score(Y_teste,predicao_NB)\n",
    "acuracia_DT = accuracy_score(Y_teste, predicao_DT)\n",
    "acuracia_KNN = accuracy_score(Y_teste, predicao_KNN)\n",
    "acuracia_RF = accuracy_score(Y_teste, predicao_RF)\n",
    "#acuracia_SVM = accuracy_score(Y_teste, predicao_SVM)\n",
    "#acuracia_NN = accuracy_score(Y_teste, predicao_NN)\n",
    "\n",
    "# Consolida os resultados para serem exibidos em uma tabela e gráfico comparativo\n",
    "acuracias = [['Logistic Regression', round(acuracia_LR*100, 2)],\n",
    "           ['KNN', round(acuracia_KNN*100, 2)],\n",
    "           ['Naives Bayes', round(acuracia_NB*100, 2)],\n",
    "           ['Decision Tree', round(acuracia_DT*100, 2)],\n",
    "           ['Random Forest', round(acuracia_RF*100, 2)]\n",
    "          ]\n",
    "\n",
    "dfacuracias = DataFrame(acuracias)\n",
    "dfacuracias.columns = ['Modelo', 'Acurácia']\n",
    "dfacuracias = dfacuracias.sort_values(['Acurácia', 'Modelo'])\n",
    "dfacuracias"
   ]
  },
  {
   "cell_type": "code",
   "execution_count": 20,
   "metadata": {
    "colab": {
     "base_uri": "https://localhost:8080/",
     "height": 452
    },
    "colab_type": "code",
    "id": "xd6l1fhYucJn",
    "outputId": "86c3ef81-76f7-47ba-807d-6f75424211c5"
   },
   "outputs": [
    {
     "data": {
      "image/png": "[encoded data removed]",
      "text/plain": [
       "<Figure size 1008x360 with 1 Axes>"
      ]
     },
     "metadata": {
      "needs_background": "light"
     },
     "output_type": "display_data"
    }
   ],
   "source": [
    "# Montando o gráfico comparativo das Acurácias\n",
    "\n",
    "import matplotlib.pyplot as plt\n",
    "%matplotlib inline\n",
    "import seaborn as sns\n",
    "\n",
    "plt.figure(figsize = (14, 5))\n",
    "\n",
    "sns.set(style=\"whitegrid\")\n",
    "sns.set_color_codes(\"pastel\")\n",
    "g = sns.barplot(x=\"Acurácia\", y=\"Modelo\", data=dfacuracias)\n",
    "g.axes.set_title('Comparativo Modelos Algoritmos', fontsize=18,color=\"black\",alpha=2)\n",
    "g.set_xlabel(\"% Acurácia\", size = 12,color=\"blue\")\n",
    "g.set_ylabel(\"Modelo\", size = 12,color=\"blue\")\n",
    "g.set_xlim(0, 100)\n",
    "sns.despine(left=True, bottom=True)\n",
    "ax=g\n",
    "for p in ax.patches:\n",
    "    width = p.get_width()\n",
    "    plt.text(5+p.get_width(), p.get_y()+0.55*p.get_height(),\n",
    "             '{:1.2f}'.format(width),\n",
    "             ha='center', va='center')\n",
    "plt.show()"
   ]
  },
  {
   "cell_type": "markdown",
   "metadata": {},
   "source": [
    "## Calculando a Confusion Matrix\n",
    "\n",
    "A Confusion Matrix é uma ótima ferramenta para analisar a distribuição dos acertos (a acurácia) e erros cometidos.\n",
    "Apenas analisando a acurácia do modelo não é possível verificar como está essa distribuição.\n",
    "\n",
    "Ela compara o resultado previsto com o esperado e monta assim uma matriz com a distribuição dos acertos e dos erros.\n",
    "\n",
    "No topo estão os valores previstos calculados pelo modelo e do lado esquerdo verticalmente estão os valores reais.\n",
    "\n",
    "Os valores que foram acertados estão na diagonal da esquerda do topo até a direita inferior. E os erros estao na diagonal oposta.  "
   ]
  },
  {
   "cell_type": "code",
   "execution_count": 21,
   "metadata": {},
   "outputs": [
    {
     "name": "stdout",
     "output_type": "stream",
     "text": [
      "Logistic Regression:\n",
      "[[45300     0]\n",
      " [ 4567     0]]\n",
      "Naive Bayes:\n",
      "[[45300     0]\n",
      " [ 4567     0]]\n",
      "Decision Tree:\n",
      "[[43344  1956]\n",
      " [ 2446  2121]]\n",
      "Random Forest:\n",
      "[[43600  1700]\n",
      " [ 2413  2154]]\n",
      "KNN:\n",
      "[[43911  1389]\n",
      " [ 2499  2068]]\n"
     ]
    }
   ],
   "source": [
    "from sklearn.metrics import confusion_matrix\n",
    "\n",
    "print('Logistic Regression:') \n",
    "print(confusion_matrix(Y_teste, predicao_LR))\n",
    "print('Naive Bayes:') \n",
    "print(confusion_matrix(Y_teste,predicao_NB))\n",
    "print('Decision Tree:') \n",
    "print(confusion_matrix(Y_teste, predicao_DT))\n",
    "print('Random Forest:') \n",
    "print(confusion_matrix(Y_teste, predicao_RF))\n",
    "print('KNN:') \n",
    "print(confusion_matrix(Y_teste, predicao_KNN))"
   ]
  },
  {
   "cell_type": "markdown",
   "metadata": {},
   "source": [
    "### Comentários sobre o resultado do Confusion Matrix:\n",
    "\n",
    "#### Logistic Regression e Naive Bayes\n",
    "O modelo Logistic Regression e Naive Bayes, apesar de terem acurácia em torno de 90% e acertarem toda a previsão da classe 0, teve um desempenho ruim para a previsão da classe 1, onde erraram todas as previsões para essa classe!\n",
    "Isso é um indício que esses dois modelos estão sofrendo de Overfitting, que ocorre quando o modelo treinado aprende demais uma situação (no caso a previsão da classe 0) mas não consegue identificar outras situações, como a classe 1.\n",
    "Nesse caso, será necessário aplicar técnicas para reajustar isso.\n",
    "\n",
    "#### Decision Tree\n",
    "A acurácia desse modelo ficou parecido com o Logistic Regression e Naive Bayes, porém seus erros estão distribuídos nas duas classes (previsões). Isso demonstra que não deve ser analisado apenas o resultado da acurácia. A Confusion Matrix é extremamente importante para a análise dos acertos e erros.\n",
    "\n",
    "#### Random Forest e KNN\n",
    "Esses praticamente possuem quase a mesma acurácia mas com ligeira diferença nas distribuições dos acertos e erros."
   ]
  },
  {
   "cell_type": "markdown",
   "metadata": {},
   "source": [
    "# CONCLUSÃO"
   ]
  },
  {
   "cell_type": "markdown",
   "metadata": {},
   "source": [
    "Apesar de um índice alto de acurácia, com todos os modelos tendo mais que 90% de acerto, os modelos requerem tratamentos. Há sinais claros que há modelos sofrendo de Overfitting.\n",
    "\n",
    "No script da próxima versão será demonstrado outras técnicas como:\n",
    "* Seleção dos Atributos (Feature Selection) mais apurado\n",
    "* Verificação da Outliers\n",
    "* Cross-Validation\n",
    "* Seleção de Hiperparâmetros dos Algoritmos\n",
    "* Criaççao de modelos com SVM e Rede Neural\n"
   ]
  },
  {
   "cell_type": "code",
   "execution_count": null,
   "metadata": {},
   "outputs": [],
   "source": []
  }
 ],
 "metadata": {
  "colab": {
   "authorship_tag": "ABX9TyOLe54NGDMNIY9r9iKfpkLK",
   "collapsed_sections": [],
   "include_colab_link": true,
   "name": "ML_CLSF_Fraude_CompraOnline_v01.ipynb",
   "provenance": [],
   "toc_visible": true
  },
  "kernelspec": {
   "display_name": "Python 3",
   "language": "python",
   "name": "python3"
  },
  "language_info": {
   "codemirror_mode": {
    "name": "ipython",
    "version": 3
   },
   "file_extension": ".py",
   "mimetype": "text/x-python",
   "name": "python",
   "nbconvert_exporter": "python",
   "pygments_lexer": "ipython3",
   "version": "3.7.4"
  }
 },
 "nbformat": 4,
 "nbformat_minor": 1
}
